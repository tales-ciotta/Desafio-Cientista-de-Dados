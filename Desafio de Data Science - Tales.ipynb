{
 "cells": [
  {
   "cell_type": "markdown",
   "id": "3a218ec0",
   "metadata": {},
   "source": [
    "\n",
    "# **Desafio Cientista de dados**\n",
    "\n",
    "#### Tales Rocha Ciotta "
   ]
  },
  {
   "cell_type": "markdown",
   "id": "e21ee982",
   "metadata": {},
   "source": [
    "# 1. Introdução\n",
    "\n",
    "O objetivo deste notebook é prever o salário anual *(yearly_wage)* em duas categorias (maior que 50 mil e menor ou igual a 50 mil) de uma amostra de pessoas a partir de dados sociodemográficos anonimizados. Antes de iniciar, é necessário ter uma noção de qual problema de machine learning será resolvido.\n",
    "\n",
    "Os problemas de Machine learning podem ser divididos em 3 áreas:\n",
    "- **Classificação:** busca-se encontrar encontrar uma classe dentro de possibilidades limitadas, ou sea, gera-se como saída uma classificação qualitativa de um dado\n",
    "- **Regressão:** utiliza dos dados de entrada para estimar um valor numérico\n",
    "- **Agrupamento:** busca agrupar dados de atributos comuns em clusters\n",
    "\n",
    "Considerando que o problema exige uma saída de qual categoria o salário anual se encaixa a partir de dados rotulados, estamos diante de um problema de **Classificação**, neste notebook serão empregadas técnicas de *Data Cleaning*, *EDA*, *Feature Engineering* e comparação de modelos para, não só prever a categoria de salário anual, como também demonstrar qual modelo de classificação melhor se encaixa nos dados."
   ]
  },
  {
   "cell_type": "markdown",
   "id": "5d85f5cb",
   "metadata": {},
   "source": [
    "# 2. Data Preprocessing & EDA\n",
    "\n",
    "Começamos importando algumas bibliotecas necessárias para a manipulação dos dados e carregando nosso dataset."
   ]
  },
  {
   "cell_type": "code",
   "execution_count": 1,
   "id": "12d64bff",
   "metadata": {},
   "outputs": [],
   "source": [
    "import pandas as pd\n",
    "import numpy as np\n",
    "import seaborn as sns\n",
    "import matplotlib.pyplot as plt"
   ]
  },
  {
   "cell_type": "code",
   "execution_count": 2,
   "id": "810485b1",
   "metadata": {},
   "outputs": [
    {
     "data": {
      "text/plain": [
       "(32560, 16)"
      ]
     },
     "execution_count": 2,
     "metadata": {},
     "output_type": "execute_result"
    }
   ],
   "source": [
    "df = pd.read_csv('./wage_train.csv')\n",
    "df.shape #Verificar a forma do nosso dataset"
   ]
  },
  {
   "cell_type": "markdown",
   "id": "827dd392",
   "metadata": {},
   "source": [
    "- Temos 32560 linhas no nosso dataset e 16 colunas, uma a mais do que o esperado. \n",
    "\n",
    "Utilizaremos uma amostra de 20 linhas aleatórias do dataset para observarmos com quais *features* estamos lidando."
   ]
  },
  {
   "cell_type": "code",
   "execution_count": 3,
   "id": "4fa3c6db",
   "metadata": {
    "scrolled": true
   },
   "outputs": [
    {
     "data": {
      "text/html": [
       "<div>\n",
       "<style scoped>\n",
       "    .dataframe tbody tr th:only-of-type {\n",
       "        vertical-align: middle;\n",
       "    }\n",
       "\n",
       "    .dataframe tbody tr th {\n",
       "        vertical-align: top;\n",
       "    }\n",
       "\n",
       "    .dataframe thead th {\n",
       "        text-align: right;\n",
       "    }\n",
       "</style>\n",
       "<table border=\"1\" class=\"dataframe\">\n",
       "  <thead>\n",
       "    <tr style=\"text-align: right;\">\n",
       "      <th></th>\n",
       "      <th>Unnamed: 0</th>\n",
       "      <th>age</th>\n",
       "      <th>workclass</th>\n",
       "      <th>fnlwgt</th>\n",
       "      <th>education</th>\n",
       "      <th>education_num</th>\n",
       "      <th>marital_status</th>\n",
       "      <th>occupation</th>\n",
       "      <th>relationship</th>\n",
       "      <th>race</th>\n",
       "      <th>sex</th>\n",
       "      <th>capital_gain</th>\n",
       "      <th>capital_loss</th>\n",
       "      <th>hours_per_week</th>\n",
       "      <th>native_country</th>\n",
       "      <th>yearly_wage</th>\n",
       "    </tr>\n",
       "  </thead>\n",
       "  <tbody>\n",
       "    <tr>\n",
       "      <th>9490</th>\n",
       "      <td>9490</td>\n",
       "      <td>46</td>\n",
       "      <td>Private</td>\n",
       "      <td>128796</td>\n",
       "      <td>Bachelors</td>\n",
       "      <td>13</td>\n",
       "      <td>Married-civ-spouse</td>\n",
       "      <td>Exec-managerial</td>\n",
       "      <td>Husband</td>\n",
       "      <td>White</td>\n",
       "      <td>Male</td>\n",
       "      <td>0</td>\n",
       "      <td>0</td>\n",
       "      <td>44</td>\n",
       "      <td>United-States</td>\n",
       "      <td>&gt;50K</td>\n",
       "    </tr>\n",
       "    <tr>\n",
       "      <th>27060</th>\n",
       "      <td>27060</td>\n",
       "      <td>45</td>\n",
       "      <td>Private</td>\n",
       "      <td>221780</td>\n",
       "      <td>Some-college</td>\n",
       "      <td>10</td>\n",
       "      <td>Divorced</td>\n",
       "      <td>Handlers-cleaners</td>\n",
       "      <td>Not-in-family</td>\n",
       "      <td>White</td>\n",
       "      <td>Male</td>\n",
       "      <td>0</td>\n",
       "      <td>0</td>\n",
       "      <td>30</td>\n",
       "      <td>United-States</td>\n",
       "      <td>&lt;=50K</td>\n",
       "    </tr>\n",
       "    <tr>\n",
       "      <th>15346</th>\n",
       "      <td>15346</td>\n",
       "      <td>32</td>\n",
       "      <td>Private</td>\n",
       "      <td>348152</td>\n",
       "      <td>Masters</td>\n",
       "      <td>14</td>\n",
       "      <td>Married-civ-spouse</td>\n",
       "      <td>Exec-managerial</td>\n",
       "      <td>Husband</td>\n",
       "      <td>White</td>\n",
       "      <td>Male</td>\n",
       "      <td>0</td>\n",
       "      <td>0</td>\n",
       "      <td>40</td>\n",
       "      <td>United-States</td>\n",
       "      <td>&gt;50K</td>\n",
       "    </tr>\n",
       "    <tr>\n",
       "      <th>12172</th>\n",
       "      <td>12172</td>\n",
       "      <td>55</td>\n",
       "      <td>Local-gov</td>\n",
       "      <td>99131</td>\n",
       "      <td>HS-grad</td>\n",
       "      <td>9</td>\n",
       "      <td>Married-civ-spouse</td>\n",
       "      <td>Prof-specialty</td>\n",
       "      <td>Other-relative</td>\n",
       "      <td>White</td>\n",
       "      <td>Female</td>\n",
       "      <td>0</td>\n",
       "      <td>2246</td>\n",
       "      <td>40</td>\n",
       "      <td>United-States</td>\n",
       "      <td>&gt;50K</td>\n",
       "    </tr>\n",
       "    <tr>\n",
       "      <th>1170</th>\n",
       "      <td>1170</td>\n",
       "      <td>50</td>\n",
       "      <td>Private</td>\n",
       "      <td>157043</td>\n",
       "      <td>11th</td>\n",
       "      <td>7</td>\n",
       "      <td>Divorced</td>\n",
       "      <td>Other-service</td>\n",
       "      <td>Not-in-family</td>\n",
       "      <td>Black</td>\n",
       "      <td>Female</td>\n",
       "      <td>0</td>\n",
       "      <td>0</td>\n",
       "      <td>40</td>\n",
       "      <td>United-States</td>\n",
       "      <td>&lt;=50K</td>\n",
       "    </tr>\n",
       "    <tr>\n",
       "      <th>26915</th>\n",
       "      <td>26915</td>\n",
       "      <td>22</td>\n",
       "      <td>Private</td>\n",
       "      <td>190916</td>\n",
       "      <td>Some-college</td>\n",
       "      <td>10</td>\n",
       "      <td>Never-married</td>\n",
       "      <td>Tech-support</td>\n",
       "      <td>Own-child</td>\n",
       "      <td>White</td>\n",
       "      <td>Female</td>\n",
       "      <td>0</td>\n",
       "      <td>0</td>\n",
       "      <td>40</td>\n",
       "      <td>United-States</td>\n",
       "      <td>&lt;=50K</td>\n",
       "    </tr>\n",
       "    <tr>\n",
       "      <th>25883</th>\n",
       "      <td>25883</td>\n",
       "      <td>52</td>\n",
       "      <td>Federal-gov</td>\n",
       "      <td>192065</td>\n",
       "      <td>Some-college</td>\n",
       "      <td>10</td>\n",
       "      <td>Separated</td>\n",
       "      <td>Exec-managerial</td>\n",
       "      <td>Not-in-family</td>\n",
       "      <td>White</td>\n",
       "      <td>Female</td>\n",
       "      <td>0</td>\n",
       "      <td>0</td>\n",
       "      <td>40</td>\n",
       "      <td>United-States</td>\n",
       "      <td>&lt;=50K</td>\n",
       "    </tr>\n",
       "    <tr>\n",
       "      <th>15725</th>\n",
       "      <td>15725</td>\n",
       "      <td>37</td>\n",
       "      <td>Private</td>\n",
       "      <td>125933</td>\n",
       "      <td>Assoc-acdm</td>\n",
       "      <td>12</td>\n",
       "      <td>Married-civ-spouse</td>\n",
       "      <td>Exec-managerial</td>\n",
       "      <td>Husband</td>\n",
       "      <td>White</td>\n",
       "      <td>Male</td>\n",
       "      <td>7688</td>\n",
       "      <td>0</td>\n",
       "      <td>50</td>\n",
       "      <td>United-States</td>\n",
       "      <td>&gt;50K</td>\n",
       "    </tr>\n",
       "    <tr>\n",
       "      <th>24409</th>\n",
       "      <td>24409</td>\n",
       "      <td>38</td>\n",
       "      <td>Private</td>\n",
       "      <td>146398</td>\n",
       "      <td>HS-grad</td>\n",
       "      <td>9</td>\n",
       "      <td>Never-married</td>\n",
       "      <td>Other-service</td>\n",
       "      <td>Unmarried</td>\n",
       "      <td>Black</td>\n",
       "      <td>Female</td>\n",
       "      <td>0</td>\n",
       "      <td>0</td>\n",
       "      <td>24</td>\n",
       "      <td>United-States</td>\n",
       "      <td>&lt;=50K</td>\n",
       "    </tr>\n",
       "    <tr>\n",
       "      <th>27689</th>\n",
       "      <td>27689</td>\n",
       "      <td>36</td>\n",
       "      <td>Private</td>\n",
       "      <td>205359</td>\n",
       "      <td>HS-grad</td>\n",
       "      <td>9</td>\n",
       "      <td>Married-spouse-absent</td>\n",
       "      <td>Other-service</td>\n",
       "      <td>Unmarried</td>\n",
       "      <td>White</td>\n",
       "      <td>Female</td>\n",
       "      <td>0</td>\n",
       "      <td>0</td>\n",
       "      <td>25</td>\n",
       "      <td>United-States</td>\n",
       "      <td>&lt;=50K</td>\n",
       "    </tr>\n",
       "    <tr>\n",
       "      <th>4146</th>\n",
       "      <td>4146</td>\n",
       "      <td>66</td>\n",
       "      <td>?</td>\n",
       "      <td>299616</td>\n",
       "      <td>Some-college</td>\n",
       "      <td>10</td>\n",
       "      <td>Married-civ-spouse</td>\n",
       "      <td>?</td>\n",
       "      <td>Husband</td>\n",
       "      <td>White</td>\n",
       "      <td>Male</td>\n",
       "      <td>0</td>\n",
       "      <td>0</td>\n",
       "      <td>40</td>\n",
       "      <td>United-States</td>\n",
       "      <td>&lt;=50K</td>\n",
       "    </tr>\n",
       "    <tr>\n",
       "      <th>9028</th>\n",
       "      <td>9028</td>\n",
       "      <td>47</td>\n",
       "      <td>Private</td>\n",
       "      <td>254367</td>\n",
       "      <td>Some-college</td>\n",
       "      <td>10</td>\n",
       "      <td>Married-civ-spouse</td>\n",
       "      <td>Exec-managerial</td>\n",
       "      <td>Husband</td>\n",
       "      <td>White</td>\n",
       "      <td>Male</td>\n",
       "      <td>0</td>\n",
       "      <td>0</td>\n",
       "      <td>50</td>\n",
       "      <td>United-States</td>\n",
       "      <td>&gt;50K</td>\n",
       "    </tr>\n",
       "    <tr>\n",
       "      <th>12817</th>\n",
       "      <td>12817</td>\n",
       "      <td>48</td>\n",
       "      <td>Self-emp-inc</td>\n",
       "      <td>125892</td>\n",
       "      <td>Some-college</td>\n",
       "      <td>10</td>\n",
       "      <td>Married-civ-spouse</td>\n",
       "      <td>Sales</td>\n",
       "      <td>Husband</td>\n",
       "      <td>White</td>\n",
       "      <td>Male</td>\n",
       "      <td>0</td>\n",
       "      <td>0</td>\n",
       "      <td>38</td>\n",
       "      <td>United-States</td>\n",
       "      <td>&gt;50K</td>\n",
       "    </tr>\n",
       "    <tr>\n",
       "      <th>18564</th>\n",
       "      <td>18564</td>\n",
       "      <td>42</td>\n",
       "      <td>Self-emp-inc</td>\n",
       "      <td>50122</td>\n",
       "      <td>HS-grad</td>\n",
       "      <td>9</td>\n",
       "      <td>Married-civ-spouse</td>\n",
       "      <td>Sales</td>\n",
       "      <td>Husband</td>\n",
       "      <td>White</td>\n",
       "      <td>Male</td>\n",
       "      <td>0</td>\n",
       "      <td>0</td>\n",
       "      <td>60</td>\n",
       "      <td>United-States</td>\n",
       "      <td>&lt;=50K</td>\n",
       "    </tr>\n",
       "    <tr>\n",
       "      <th>14088</th>\n",
       "      <td>14088</td>\n",
       "      <td>59</td>\n",
       "      <td>Federal-gov</td>\n",
       "      <td>176317</td>\n",
       "      <td>10th</td>\n",
       "      <td>6</td>\n",
       "      <td>Divorced</td>\n",
       "      <td>Other-service</td>\n",
       "      <td>Not-in-family</td>\n",
       "      <td>White</td>\n",
       "      <td>Female</td>\n",
       "      <td>0</td>\n",
       "      <td>0</td>\n",
       "      <td>37</td>\n",
       "      <td>United-States</td>\n",
       "      <td>&lt;=50K</td>\n",
       "    </tr>\n",
       "    <tr>\n",
       "      <th>30097</th>\n",
       "      <td>30097</td>\n",
       "      <td>40</td>\n",
       "      <td>Private</td>\n",
       "      <td>63745</td>\n",
       "      <td>Assoc-voc</td>\n",
       "      <td>11</td>\n",
       "      <td>Never-married</td>\n",
       "      <td>Adm-clerical</td>\n",
       "      <td>Not-in-family</td>\n",
       "      <td>White</td>\n",
       "      <td>Female</td>\n",
       "      <td>0</td>\n",
       "      <td>0</td>\n",
       "      <td>40</td>\n",
       "      <td>United-States</td>\n",
       "      <td>&lt;=50K</td>\n",
       "    </tr>\n",
       "    <tr>\n",
       "      <th>4600</th>\n",
       "      <td>4600</td>\n",
       "      <td>44</td>\n",
       "      <td>Private</td>\n",
       "      <td>129100</td>\n",
       "      <td>11th</td>\n",
       "      <td>7</td>\n",
       "      <td>Separated</td>\n",
       "      <td>Other-service</td>\n",
       "      <td>Unmarried</td>\n",
       "      <td>Black</td>\n",
       "      <td>Female</td>\n",
       "      <td>0</td>\n",
       "      <td>0</td>\n",
       "      <td>60</td>\n",
       "      <td>United-States</td>\n",
       "      <td>&lt;=50K</td>\n",
       "    </tr>\n",
       "    <tr>\n",
       "      <th>31281</th>\n",
       "      <td>31281</td>\n",
       "      <td>29</td>\n",
       "      <td>Private</td>\n",
       "      <td>112847</td>\n",
       "      <td>Assoc-voc</td>\n",
       "      <td>11</td>\n",
       "      <td>Married-civ-spouse</td>\n",
       "      <td>Craft-repair</td>\n",
       "      <td>Husband</td>\n",
       "      <td>Asian-Pac-Islander</td>\n",
       "      <td>Male</td>\n",
       "      <td>7298</td>\n",
       "      <td>0</td>\n",
       "      <td>32</td>\n",
       "      <td>United-States</td>\n",
       "      <td>&gt;50K</td>\n",
       "    </tr>\n",
       "    <tr>\n",
       "      <th>7707</th>\n",
       "      <td>7707</td>\n",
       "      <td>44</td>\n",
       "      <td>Private</td>\n",
       "      <td>212888</td>\n",
       "      <td>Bachelors</td>\n",
       "      <td>13</td>\n",
       "      <td>Divorced</td>\n",
       "      <td>Exec-managerial</td>\n",
       "      <td>Unmarried</td>\n",
       "      <td>White</td>\n",
       "      <td>Female</td>\n",
       "      <td>0</td>\n",
       "      <td>0</td>\n",
       "      <td>45</td>\n",
       "      <td>United-States</td>\n",
       "      <td>&lt;=50K</td>\n",
       "    </tr>\n",
       "    <tr>\n",
       "      <th>8679</th>\n",
       "      <td>8679</td>\n",
       "      <td>25</td>\n",
       "      <td>Private</td>\n",
       "      <td>177499</td>\n",
       "      <td>Bachelors</td>\n",
       "      <td>13</td>\n",
       "      <td>Never-married</td>\n",
       "      <td>Craft-repair</td>\n",
       "      <td>Own-child</td>\n",
       "      <td>White</td>\n",
       "      <td>Male</td>\n",
       "      <td>0</td>\n",
       "      <td>1590</td>\n",
       "      <td>35</td>\n",
       "      <td>United-States</td>\n",
       "      <td>&lt;=50K</td>\n",
       "    </tr>\n",
       "  </tbody>\n",
       "</table>\n",
       "</div>"
      ],
      "text/plain": [
       "       Unnamed: 0  age      workclass  fnlwgt      education  education_num  \\\n",
       "9490         9490   46        Private  128796      Bachelors             13   \n",
       "27060       27060   45        Private  221780   Some-college             10   \n",
       "15346       15346   32        Private  348152        Masters             14   \n",
       "12172       12172   55      Local-gov   99131        HS-grad              9   \n",
       "1170         1170   50        Private  157043           11th              7   \n",
       "26915       26915   22        Private  190916   Some-college             10   \n",
       "25883       25883   52    Federal-gov  192065   Some-college             10   \n",
       "15725       15725   37        Private  125933     Assoc-acdm             12   \n",
       "24409       24409   38        Private  146398        HS-grad              9   \n",
       "27689       27689   36        Private  205359        HS-grad              9   \n",
       "4146         4146   66              ?  299616   Some-college             10   \n",
       "9028         9028   47        Private  254367   Some-college             10   \n",
       "12817       12817   48   Self-emp-inc  125892   Some-college             10   \n",
       "18564       18564   42   Self-emp-inc   50122        HS-grad              9   \n",
       "14088       14088   59    Federal-gov  176317           10th              6   \n",
       "30097       30097   40        Private   63745      Assoc-voc             11   \n",
       "4600         4600   44        Private  129100           11th              7   \n",
       "31281       31281   29        Private  112847      Assoc-voc             11   \n",
       "7707         7707   44        Private  212888      Bachelors             13   \n",
       "8679         8679   25        Private  177499      Bachelors             13   \n",
       "\n",
       "               marital_status          occupation     relationship  \\\n",
       "9490       Married-civ-spouse     Exec-managerial          Husband   \n",
       "27060                Divorced   Handlers-cleaners    Not-in-family   \n",
       "15346      Married-civ-spouse     Exec-managerial          Husband   \n",
       "12172      Married-civ-spouse      Prof-specialty   Other-relative   \n",
       "1170                 Divorced       Other-service    Not-in-family   \n",
       "26915           Never-married        Tech-support        Own-child   \n",
       "25883               Separated     Exec-managerial    Not-in-family   \n",
       "15725      Married-civ-spouse     Exec-managerial          Husband   \n",
       "24409           Never-married       Other-service        Unmarried   \n",
       "27689   Married-spouse-absent       Other-service        Unmarried   \n",
       "4146       Married-civ-spouse                   ?          Husband   \n",
       "9028       Married-civ-spouse     Exec-managerial          Husband   \n",
       "12817      Married-civ-spouse               Sales          Husband   \n",
       "18564      Married-civ-spouse               Sales          Husband   \n",
       "14088                Divorced       Other-service    Not-in-family   \n",
       "30097           Never-married        Adm-clerical    Not-in-family   \n",
       "4600                Separated       Other-service        Unmarried   \n",
       "31281      Married-civ-spouse        Craft-repair          Husband   \n",
       "7707                 Divorced     Exec-managerial        Unmarried   \n",
       "8679            Never-married        Craft-repair        Own-child   \n",
       "\n",
       "                      race      sex  capital_gain  capital_loss  \\\n",
       "9490                 White     Male             0             0   \n",
       "27060                White     Male             0             0   \n",
       "15346                White     Male             0             0   \n",
       "12172                White   Female             0          2246   \n",
       "1170                 Black   Female             0             0   \n",
       "26915                White   Female             0             0   \n",
       "25883                White   Female             0             0   \n",
       "15725                White     Male          7688             0   \n",
       "24409                Black   Female             0             0   \n",
       "27689                White   Female             0             0   \n",
       "4146                 White     Male             0             0   \n",
       "9028                 White     Male             0             0   \n",
       "12817                White     Male             0             0   \n",
       "18564                White     Male             0             0   \n",
       "14088                White   Female             0             0   \n",
       "30097                White   Female             0             0   \n",
       "4600                 Black   Female             0             0   \n",
       "31281   Asian-Pac-Islander     Male          7298             0   \n",
       "7707                 White   Female             0             0   \n",
       "8679                 White     Male             0          1590   \n",
       "\n",
       "       hours_per_week  native_country yearly_wage  \n",
       "9490               44   United-States        >50K  \n",
       "27060              30   United-States       <=50K  \n",
       "15346              40   United-States        >50K  \n",
       "12172              40   United-States        >50K  \n",
       "1170               40   United-States       <=50K  \n",
       "26915              40   United-States       <=50K  \n",
       "25883              40   United-States       <=50K  \n",
       "15725              50   United-States        >50K  \n",
       "24409              24   United-States       <=50K  \n",
       "27689              25   United-States       <=50K  \n",
       "4146               40   United-States       <=50K  \n",
       "9028               50   United-States        >50K  \n",
       "12817              38   United-States        >50K  \n",
       "18564              60   United-States       <=50K  \n",
       "14088              37   United-States       <=50K  \n",
       "30097              40   United-States       <=50K  \n",
       "4600               60   United-States       <=50K  \n",
       "31281              32   United-States        >50K  \n",
       "7707               45   United-States       <=50K  \n",
       "8679               35   United-States       <=50K  "
      ]
     },
     "execution_count": 3,
     "metadata": {},
     "output_type": "execute_result"
    }
   ],
   "source": [
    "df.sample(20)"
   ]
  },
  {
   "cell_type": "markdown",
   "id": "aeba627a",
   "metadata": {},
   "source": [
    "### Insights\n",
    "- Com a nossa amostra, observa-se que a coluna 'Unnamed: 0' é uma coluna duplicada de índices e precisaremos eliminá-la do nosso dataset. \n",
    "- Também, nota-se a presença do caractere '?' indicando os dados que estão faltando. \n",
    "- Por fim, há redundância em alguns dados, as *features* 'education' e 'education_num', que se refere à quantidade de anos de estudo, são semelhantes. Para gerar melhores visualizações e evitar a redundância, será mantida a coluna 'education' e a 'education_num' será removida\n",
    "\n",
    "Iniciaremos a limpeza dos dados removendo a coluna *'Unnamed:0'* e *'education_num'*"
   ]
  },
  {
   "cell_type": "code",
   "execution_count": 4,
   "id": "a4c6068b",
   "metadata": {},
   "outputs": [
    {
     "data": {
      "text/html": [
       "<div>\n",
       "<style scoped>\n",
       "    .dataframe tbody tr th:only-of-type {\n",
       "        vertical-align: middle;\n",
       "    }\n",
       "\n",
       "    .dataframe tbody tr th {\n",
       "        vertical-align: top;\n",
       "    }\n",
       "\n",
       "    .dataframe thead th {\n",
       "        text-align: right;\n",
       "    }\n",
       "</style>\n",
       "<table border=\"1\" class=\"dataframe\">\n",
       "  <thead>\n",
       "    <tr style=\"text-align: right;\">\n",
       "      <th></th>\n",
       "      <th>age</th>\n",
       "      <th>workclass</th>\n",
       "      <th>fnlwgt</th>\n",
       "      <th>education</th>\n",
       "      <th>marital_status</th>\n",
       "      <th>occupation</th>\n",
       "      <th>relationship</th>\n",
       "      <th>race</th>\n",
       "      <th>sex</th>\n",
       "      <th>capital_gain</th>\n",
       "      <th>capital_loss</th>\n",
       "      <th>hours_per_week</th>\n",
       "      <th>native_country</th>\n",
       "      <th>yearly_wage</th>\n",
       "    </tr>\n",
       "  </thead>\n",
       "  <tbody>\n",
       "    <tr>\n",
       "      <th>0</th>\n",
       "      <td>50</td>\n",
       "      <td>Self-emp-not-inc</td>\n",
       "      <td>83311</td>\n",
       "      <td>Bachelors</td>\n",
       "      <td>Married-civ-spouse</td>\n",
       "      <td>Exec-managerial</td>\n",
       "      <td>Husband</td>\n",
       "      <td>White</td>\n",
       "      <td>Male</td>\n",
       "      <td>0</td>\n",
       "      <td>0</td>\n",
       "      <td>13</td>\n",
       "      <td>United-States</td>\n",
       "      <td>&lt;=50K</td>\n",
       "    </tr>\n",
       "    <tr>\n",
       "      <th>1</th>\n",
       "      <td>38</td>\n",
       "      <td>Private</td>\n",
       "      <td>215646</td>\n",
       "      <td>HS-grad</td>\n",
       "      <td>Divorced</td>\n",
       "      <td>Handlers-cleaners</td>\n",
       "      <td>Not-in-family</td>\n",
       "      <td>White</td>\n",
       "      <td>Male</td>\n",
       "      <td>0</td>\n",
       "      <td>0</td>\n",
       "      <td>40</td>\n",
       "      <td>United-States</td>\n",
       "      <td>&lt;=50K</td>\n",
       "    </tr>\n",
       "    <tr>\n",
       "      <th>2</th>\n",
       "      <td>53</td>\n",
       "      <td>Private</td>\n",
       "      <td>234721</td>\n",
       "      <td>11th</td>\n",
       "      <td>Married-civ-spouse</td>\n",
       "      <td>Handlers-cleaners</td>\n",
       "      <td>Husband</td>\n",
       "      <td>Black</td>\n",
       "      <td>Male</td>\n",
       "      <td>0</td>\n",
       "      <td>0</td>\n",
       "      <td>40</td>\n",
       "      <td>United-States</td>\n",
       "      <td>&lt;=50K</td>\n",
       "    </tr>\n",
       "    <tr>\n",
       "      <th>3</th>\n",
       "      <td>28</td>\n",
       "      <td>Private</td>\n",
       "      <td>338409</td>\n",
       "      <td>Bachelors</td>\n",
       "      <td>Married-civ-spouse</td>\n",
       "      <td>Prof-specialty</td>\n",
       "      <td>Wife</td>\n",
       "      <td>Black</td>\n",
       "      <td>Female</td>\n",
       "      <td>0</td>\n",
       "      <td>0</td>\n",
       "      <td>40</td>\n",
       "      <td>Cuba</td>\n",
       "      <td>&lt;=50K</td>\n",
       "    </tr>\n",
       "    <tr>\n",
       "      <th>4</th>\n",
       "      <td>37</td>\n",
       "      <td>Private</td>\n",
       "      <td>284582</td>\n",
       "      <td>Masters</td>\n",
       "      <td>Married-civ-spouse</td>\n",
       "      <td>Exec-managerial</td>\n",
       "      <td>Wife</td>\n",
       "      <td>White</td>\n",
       "      <td>Female</td>\n",
       "      <td>0</td>\n",
       "      <td>0</td>\n",
       "      <td>40</td>\n",
       "      <td>United-States</td>\n",
       "      <td>&lt;=50K</td>\n",
       "    </tr>\n",
       "  </tbody>\n",
       "</table>\n",
       "</div>"
      ],
      "text/plain": [
       "   age          workclass  fnlwgt   education       marital_status  \\\n",
       "0   50   Self-emp-not-inc   83311   Bachelors   Married-civ-spouse   \n",
       "1   38            Private  215646     HS-grad             Divorced   \n",
       "2   53            Private  234721        11th   Married-civ-spouse   \n",
       "3   28            Private  338409   Bachelors   Married-civ-spouse   \n",
       "4   37            Private  284582     Masters   Married-civ-spouse   \n",
       "\n",
       "           occupation    relationship    race      sex  capital_gain  \\\n",
       "0     Exec-managerial         Husband   White     Male             0   \n",
       "1   Handlers-cleaners   Not-in-family   White     Male             0   \n",
       "2   Handlers-cleaners         Husband   Black     Male             0   \n",
       "3      Prof-specialty            Wife   Black   Female             0   \n",
       "4     Exec-managerial            Wife   White   Female             0   \n",
       "\n",
       "   capital_loss  hours_per_week  native_country yearly_wage  \n",
       "0             0              13   United-States       <=50K  \n",
       "1             0              40   United-States       <=50K  \n",
       "2             0              40   United-States       <=50K  \n",
       "3             0              40            Cuba       <=50K  \n",
       "4             0              40   United-States       <=50K  "
      ]
     },
     "execution_count": 4,
     "metadata": {},
     "output_type": "execute_result"
    }
   ],
   "source": [
    "df.drop(['Unnamed: 0', 'education_num'], axis=1, inplace=True)\n",
    "df.head()"
   ]
  },
  {
   "cell_type": "markdown",
   "id": "f26a21d3",
   "metadata": {},
   "source": [
    "###### \n",
    "Faremos, então, uma contagem de linhas que tenham ' ?' presente. É importante notar que o caractere '?' vem acompanhado de um espaço."
   ]
  },
  {
   "cell_type": "code",
   "execution_count": 5,
   "id": "ca0f0cf1",
   "metadata": {},
   "outputs": [
    {
     "data": {
      "text/plain": [
       "age                  0\n",
       "workclass         1836\n",
       "fnlwgt               0\n",
       "education            0\n",
       "marital_status       0\n",
       "occupation        1843\n",
       "relationship         0\n",
       "race                 0\n",
       "sex                  0\n",
       "capital_gain         0\n",
       "capital_loss         0\n",
       "hours_per_week       0\n",
       "native_country     583\n",
       "yearly_wage          0\n",
       "dtype: int64"
      ]
     },
     "execution_count": 5,
     "metadata": {},
     "output_type": "execute_result"
    }
   ],
   "source": [
    "df.isin([' ?']).sum() #realiza a contagem de quantas linhas tem ' ?' por coluna"
   ]
  },
  {
   "cell_type": "markdown",
   "id": "d66f0f8b",
   "metadata": {},
   "source": [
    "Observa-se que a presença se restringe a três *features*. Comparado a quantidade de dados disponibilizados, considera-se que as linhas que faltam dados não são muitas e podem ser removidas.\n",
    "\n",
    "Remove-se essas linhas e imprime-se o número de linhas atualizada."
   ]
  },
  {
   "cell_type": "code",
   "execution_count": 6,
   "id": "5dc9863d",
   "metadata": {},
   "outputs": [
    {
     "data": {
      "text/plain": [
       "30161"
      ]
     },
     "execution_count": 6,
     "metadata": {},
     "output_type": "execute_result"
    }
   ],
   "source": [
    "df = df[(df.astype(str) != ' ?').all(axis=1)] # Remoção das linhas com ' ?'\n",
    "len(df) #imprime o número de rows do nosso dataset "
   ]
  },
  {
   "cell_type": "markdown",
   "id": "d6bee7fc",
   "metadata": {},
   "source": [
    "###### \n",
    "Agora vamos utilizar o comando *info*, para verificar se temos dados nulos e também o *data type* das features"
   ]
  },
  {
   "cell_type": "code",
   "execution_count": 7,
   "id": "df7ad17b",
   "metadata": {},
   "outputs": [
    {
     "name": "stdout",
     "output_type": "stream",
     "text": [
      "<class 'pandas.core.frame.DataFrame'>\n",
      "Int64Index: 30161 entries, 0 to 32559\n",
      "Data columns (total 14 columns):\n",
      " #   Column          Non-Null Count  Dtype \n",
      "---  ------          --------------  ----- \n",
      " 0   age             30161 non-null  int64 \n",
      " 1   workclass       30161 non-null  object\n",
      " 2   fnlwgt          30161 non-null  int64 \n",
      " 3   education       30161 non-null  object\n",
      " 4   marital_status  30161 non-null  object\n",
      " 5   occupation      30161 non-null  object\n",
      " 6   relationship    30161 non-null  object\n",
      " 7   race            30161 non-null  object\n",
      " 8   sex             30161 non-null  object\n",
      " 9   capital_gain    30161 non-null  int64 \n",
      " 10  capital_loss    30161 non-null  int64 \n",
      " 11  hours_per_week  30161 non-null  int64 \n",
      " 12  native_country  30161 non-null  object\n",
      " 13  yearly_wage     30161 non-null  object\n",
      "dtypes: int64(5), object(9)\n",
      "memory usage: 3.5+ MB\n"
     ]
    }
   ],
   "source": [
    "df.info()"
   ]
  },
  {
   "cell_type": "markdown",
   "id": "37b319e3",
   "metadata": {},
   "source": [
    "O número de dados não nulos é de 30161 para todas colunas, como sabemos que o nosso dataset tem 30161 linhas, conclui-se que está tudo certo."
   ]
  },
  {
   "cell_type": "markdown",
   "id": "1d144b92",
   "metadata": {},
   "source": [
    "######   \n",
    "Investiga-se a presença de dados duplicados no nosso dataset, para isso, faremos uma contagem"
   ]
  },
  {
   "cell_type": "code",
   "execution_count": 8,
   "id": "f751ffda",
   "metadata": {},
   "outputs": [
    {
     "data": {
      "text/plain": [
       "23"
      ]
     },
     "execution_count": 8,
     "metadata": {},
     "output_type": "execute_result"
    }
   ],
   "source": [
    "df.duplicated().sum()#contagem de duplicatas"
   ]
  },
  {
   "cell_type": "markdown",
   "id": "7ca477d5",
   "metadata": {},
   "source": [
    "Temos 23 linhas duplicadas, iremos removê-la e atualizar a nossa contagem de linhas."
   ]
  },
  {
   "cell_type": "code",
   "execution_count": 9,
   "id": "0c88f18c",
   "metadata": {},
   "outputs": [
    {
     "data": {
      "text/plain": [
       "30138"
      ]
     },
     "execution_count": 9,
     "metadata": {},
     "output_type": "execute_result"
    }
   ],
   "source": [
    "df.drop_duplicates(inplace=True)#elimna as duplicatas\n",
    "len(df)#imprime a quantidade de linhas do dataset"
   ]
  },
  {
   "cell_type": "markdown",
   "id": "4b798e71",
   "metadata": {},
   "source": [
    "#### Até aqui já foi feito:\n",
    "- Remoção de colunas com dados não significativos e redundantes\n",
    "- Remoção de linhas que tinham dados faltando\n",
    "- Eliminação de duplicatas\n",
    "\n",
    "Começa-se a investigar a possibilidade de agrupar os dados das *features* de tipo de dado *object*. Iniciamos com uma contagem de valores únicos por coluna do dataset"
   ]
  },
  {
   "cell_type": "code",
   "execution_count": 10,
   "id": "82deada9",
   "metadata": {},
   "outputs": [
    {
     "data": {
      "text/plain": [
       "age                  72\n",
       "workclass             7\n",
       "fnlwgt            20262\n",
       "education            16\n",
       "marital_status        7\n",
       "occupation           14\n",
       "relationship          6\n",
       "race                  5\n",
       "sex                   2\n",
       "capital_gain        118\n",
       "capital_loss         90\n",
       "hours_per_week       94\n",
       "native_country       41\n",
       "yearly_wage           2\n",
       "dtype: int64"
      ]
     },
     "execution_count": 10,
     "metadata": {},
     "output_type": "execute_result"
    }
   ],
   "source": [
    "df.nunique()"
   ]
  },
  {
   "cell_type": "markdown",
   "id": "8046f50e",
   "metadata": {},
   "source": [
    "### Insights \n",
    "- Considerando que a coluna 'education' se refere ao nível de educação e a coluna 'marital_status' o estado civil , o número de valores únicos para essas categorias parecem um pouco altos, é necessário investigar melhor \n",
    "- Outras colunas tem valores razoáveis quando considerado o significado dos dados que armazenam \n",
    "- Para as colunas que armazenam dados do tipo contínuo já era esperado que apresentassem maiores quantidades de valores únicos\n",
    "\n",
    "Inicia-se fazendo a contagem dos valores da coluna de 'education'."
   ]
  },
  {
   "cell_type": "code",
   "execution_count": 11,
   "id": "f2c83c99",
   "metadata": {},
   "outputs": [
    {
     "data": {
      "text/plain": [
       " HS-grad         9834\n",
       " Some-college    6669\n",
       " Bachelors       5041\n",
       " Masters         1626\n",
       " Assoc-voc       1307\n",
       " 11th            1048\n",
       " Assoc-acdm      1008\n",
       " 10th             820\n",
       " 7th-8th          556\n",
       " Prof-school      542\n",
       " 9th              455\n",
       " 12th             377\n",
       " Doctorate        375\n",
       " 5th-6th          287\n",
       " 1st-4th          149\n",
       " Preschool         44\n",
       "Name: education, dtype: int64"
      ]
     },
     "execution_count": 11,
     "metadata": {},
     "output_type": "execute_result"
    }
   ],
   "source": [
    "df['education'].value_counts()"
   ]
  },
  {
   "cell_type": "markdown",
   "id": "6e1ce9d9",
   "metadata": {},
   "source": [
    "Observa-se que realmente existem muitas subdivisões do nível de educação. Elenca-se agrupar os dados das pessoas que não concluíram o *High School* em um grupo chamado de *HS-Dropout* e também agrupar os graus de 'Assoc-voc' e 'Assoc-acdm' em um grupo geral chamado *Associate* \n",
    "\n",
    "Para isso, substituí-se as subdivisões:"
   ]
  },
  {
   "cell_type": "code",
   "execution_count": 12,
   "id": "acd73bea",
   "metadata": {},
   "outputs": [],
   "source": [
    "df['education'].replace(['11th','10th','7th-8th','9th','12th','8th-6th','1st-4th','5th-6th','Preschool'], 'HS-Dropout',inplace=True,regex=True) #Agrupar em Hs-Droput\n",
    "df['education'].replace(['Assoc-voc','Assoc-acdm'], 'Associate',inplace=True,regex=True) #Agrupar graus de Associate"
   ]
  },
  {
   "cell_type": "markdown",
   "id": "b51e9d02",
   "metadata": {},
   "source": [
    "Repete-se o procedimento de contagem para a coluna 'marital_status'."
   ]
  },
  {
   "cell_type": "code",
   "execution_count": 13,
   "id": "9a9a6a84",
   "metadata": {},
   "outputs": [
    {
     "data": {
      "text/plain": [
       " Married-civ-spouse       14059\n",
       " Never-married             9710\n",
       " Divorced                  4212\n",
       " Separated                  939\n",
       " Widowed                    827\n",
       " Married-spouse-absent      370\n",
       " Married-AF-spouse           21\n",
       "Name: marital_status, dtype: int64"
      ]
     },
     "execution_count": 13,
     "metadata": {},
     "output_type": "execute_result"
    }
   ],
   "source": [
    "df['marital_status'].value_counts()"
   ]
  },
  {
   "cell_type": "markdown",
   "id": "da50788a",
   "metadata": {},
   "source": [
    "Observa-se que o grupo de casados se subdivide, podemos agrupá-los criando apenas uma categoria denominada *Married*\n",
    "\n",
    "Substuí-se as subdivisões"
   ]
  },
  {
   "cell_type": "code",
   "execution_count": 14,
   "id": "219369b4",
   "metadata": {},
   "outputs": [],
   "source": [
    "df['marital_status'].replace(['Married-civ-spouse','Married-spouse-absent','Married-AF-spouse'], 'Married', inplace= True, regex=True) #Agrupa o grupo de casados"
   ]
  },
  {
   "cell_type": "markdown",
   "id": "5934d048",
   "metadata": {},
   "source": [
    "##### \n",
    "Reduziu-se a quantidade de valores únicos presentes nas categorias que armazenam váriaveis do tipo *object*. Agora, investiga-se os dados numéricos.\n",
    "\n",
    "Para isso, utilizaremos o comando *describe* para obtermos algumas estatísticas e analisá-las"
   ]
  },
  {
   "cell_type": "code",
   "execution_count": 15,
   "id": "fd8f43b7",
   "metadata": {},
   "outputs": [
    {
     "data": {
      "text/html": [
       "<div>\n",
       "<style scoped>\n",
       "    .dataframe tbody tr th:only-of-type {\n",
       "        vertical-align: middle;\n",
       "    }\n",
       "\n",
       "    .dataframe tbody tr th {\n",
       "        vertical-align: top;\n",
       "    }\n",
       "\n",
       "    .dataframe thead th {\n",
       "        text-align: right;\n",
       "    }\n",
       "</style>\n",
       "<table border=\"1\" class=\"dataframe\">\n",
       "  <thead>\n",
       "    <tr style=\"text-align: right;\">\n",
       "      <th></th>\n",
       "      <th>age</th>\n",
       "      <th>fnlwgt</th>\n",
       "      <th>capital_gain</th>\n",
       "      <th>capital_loss</th>\n",
       "      <th>hours_per_week</th>\n",
       "    </tr>\n",
       "  </thead>\n",
       "  <tbody>\n",
       "    <tr>\n",
       "      <th>count</th>\n",
       "      <td>30138.000000</td>\n",
       "      <td>3.013800e+04</td>\n",
       "      <td>30138.000000</td>\n",
       "      <td>30138.000000</td>\n",
       "      <td>30138.000000</td>\n",
       "    </tr>\n",
       "    <tr>\n",
       "      <th>mean</th>\n",
       "      <td>38.441702</td>\n",
       "      <td>1.897988e+05</td>\n",
       "      <td>1092.805329</td>\n",
       "      <td>88.442863</td>\n",
       "      <td>40.934734</td>\n",
       "    </tr>\n",
       "    <tr>\n",
       "      <th>std</th>\n",
       "      <td>13.131643</td>\n",
       "      <td>1.056584e+05</td>\n",
       "      <td>7409.230902</td>\n",
       "      <td>404.451628</td>\n",
       "      <td>11.978951</td>\n",
       "    </tr>\n",
       "    <tr>\n",
       "      <th>min</th>\n",
       "      <td>17.000000</td>\n",
       "      <td>1.376900e+04</td>\n",
       "      <td>0.000000</td>\n",
       "      <td>0.000000</td>\n",
       "      <td>1.000000</td>\n",
       "    </tr>\n",
       "    <tr>\n",
       "      <th>25%</th>\n",
       "      <td>28.000000</td>\n",
       "      <td>1.176295e+05</td>\n",
       "      <td>0.000000</td>\n",
       "      <td>0.000000</td>\n",
       "      <td>40.000000</td>\n",
       "    </tr>\n",
       "    <tr>\n",
       "      <th>50%</th>\n",
       "      <td>37.000000</td>\n",
       "      <td>1.784190e+05</td>\n",
       "      <td>0.000000</td>\n",
       "      <td>0.000000</td>\n",
       "      <td>40.000000</td>\n",
       "    </tr>\n",
       "    <tr>\n",
       "      <th>75%</th>\n",
       "      <td>47.000000</td>\n",
       "      <td>2.376062e+05</td>\n",
       "      <td>0.000000</td>\n",
       "      <td>0.000000</td>\n",
       "      <td>45.000000</td>\n",
       "    </tr>\n",
       "    <tr>\n",
       "      <th>max</th>\n",
       "      <td>90.000000</td>\n",
       "      <td>1.484705e+06</td>\n",
       "      <td>99999.000000</td>\n",
       "      <td>4356.000000</td>\n",
       "      <td>99.000000</td>\n",
       "    </tr>\n",
       "  </tbody>\n",
       "</table>\n",
       "</div>"
      ],
      "text/plain": [
       "                age        fnlwgt  capital_gain  capital_loss  hours_per_week\n",
       "count  30138.000000  3.013800e+04  30138.000000  30138.000000    30138.000000\n",
       "mean      38.441702  1.897988e+05   1092.805329     88.442863       40.934734\n",
       "std       13.131643  1.056584e+05   7409.230902    404.451628       11.978951\n",
       "min       17.000000  1.376900e+04      0.000000      0.000000        1.000000\n",
       "25%       28.000000  1.176295e+05      0.000000      0.000000       40.000000\n",
       "50%       37.000000  1.784190e+05      0.000000      0.000000       40.000000\n",
       "75%       47.000000  2.376062e+05      0.000000      0.000000       45.000000\n",
       "max       90.000000  1.484705e+06  99999.000000   4356.000000       99.000000"
      ]
     },
     "execution_count": 15,
     "metadata": {},
     "output_type": "execute_result"
    }
   ],
   "source": [
    "df.describe()"
   ]
  },
  {
   "cell_type": "markdown",
   "id": "1ba65f7b",
   "metadata": {},
   "source": [
    "### Insights\n",
    "- O range das idades é aceitável. A idade média dos trabalhadores é de cerca de 38 anos o que é razoável. Em um cenário que apresentasse um alto valor da idade média dos trabalhadores seria um alerta, já que sem a reposição de trabalhadores no mercado de trabalho seriam necessária mudanças estruturais na forma de trabalho para evitar um colapso.\n",
    "- fnlwgt significa final weight se refere ao número de pessoas que o Censo acredita que aqueles dados representam\n",
    "- Observa-se nas colunas de capital_gain e capital_loss, que representam o ganho e perda de capita com a venda de ativos, os valores dos quartis que são 0. Isso indica que temos uma grande quantidade de valores zerados nessas duas colunas. Também o valor máximo de capital_gain chama atenção por ser o número 99999\n",
    "- O range de hours_per_weeks também está aceitável, com o máximo de 99 horas de trabalho por semana e uma média de aproximadamente 41 h por semana\n",
    "\n",
    "Para melhor visualização dos dados de 'capital_gain' e 'capital_loss' utilizaremos um Gráfico de Violino"
   ]
  },
  {
   "cell_type": "code",
   "execution_count": 16,
   "id": "17815c1a",
   "metadata": {
    "scrolled": true
   },
   "outputs": [
    {
     "data": {
      "image/png": "[encoded data removed]",
      "text/plain": [
       "<Figure size 864x360 with 1 Axes>"
      ]
     },
     "metadata": {},
     "output_type": "display_data"
    }
   ],
   "source": [
    "sns.set_style(\"darkgrid\") #Define o estilo do fundo do gráfico\n",
    "sns.set(rc={'figure.figsize':(12,5)}) #Define o tamanho dos gráficos\n",
    "sns.violinplot(x=df['capital_gain']).set(title='Violin Plot de capital_gain'); #Plota o gráfico para capital_gain // Deve ser adicionado ';' ao final para esconder a descrição do seaborn"
   ]
  },
  {
   "cell_type": "markdown",
   "id": "2ca6fd58",
   "metadata": {},
   "source": [
    "### Insights \n",
    "\n",
    "- Observa-se que há uma grande densidade de zeros, como esperado. Nota-se também que a densidade de dados em uma grande faixa de capital_gain é nula até aumentar no valor máximo."
   ]
  },
  {
   "cell_type": "markdown",
   "id": "a3ec6e8a",
   "metadata": {},
   "source": [
    "Seguimos com a visualização dos dados de *capital_loss* em um gráfico de Violino"
   ]
  },
  {
   "cell_type": "code",
   "execution_count": 17,
   "id": "1ed12f92",
   "metadata": {},
   "outputs": [
    {
     "data": {
      "image/png": "[encoded data removed]",
      "text/plain": [
       "<Figure size 864x360 with 1 Axes>"
      ]
     },
     "metadata": {},
     "output_type": "display_data"
    }
   ],
   "source": [
    "sns.set(rc={'figure.figsize':(12,5)}) \n",
    "sns.violinplot(x=df['capital_loss']).set(title='Violin Plot de capital_loss');"
   ]
  },
  {
   "cell_type": "markdown",
   "id": "65a3e98d",
   "metadata": {},
   "source": [
    "### Insights \n",
    "\n",
    "- Novamente pode ser observada a grande densidade de zeros\n",
    "- O valor máximo de capital_loss é coerente\n",
    "\n",
    "A fim de gerar mais insights sobre os dados, segue-se com a análise exploratória, buscando relações entre as diferentes features com a feature de salário anual *'yearly_wage'*\n",
    "\n",
    "Primeiro, plota-se um histograma para observar a contagem de indivíduos que ganham mais que 50 mil e que ganham menos ou igual."
   ]
  },
  {
   "cell_type": "code",
   "execution_count": 18,
   "id": "56a9235c",
   "metadata": {},
   "outputs": [
    {
     "data": {
      "image/png": "[encoded data removed]",
      "text/plain": [
       "<Figure size 720x432 with 1 Axes>"
      ]
     },
     "metadata": {},
     "output_type": "display_data"
    }
   ],
   "source": [
    "sns.set(rc={'figure.figsize':(10,6)})\n",
    "sns.histplot(x=\"yearly_wage\", hue = 'yearly_wage', palette = 'bright', data=df, stat=\"count\");"
   ]
  },
  {
   "cell_type": "markdown",
   "id": "25bb4d0f",
   "metadata": {},
   "source": [
    "### Insights \n",
    "- Temos uma quantidade considerável a mais de pessoas que gnaham menos ou igual a 50 mil\n",
    "\n",
    "Segue-se plotando o gráfico de estimativa de densidade de horas trabalhadas cruzando com os dados de salário anual"
   ]
  },
  {
   "cell_type": "code",
   "execution_count": 19,
   "id": "01773957",
   "metadata": {},
   "outputs": [
    {
     "data": {
      "image/png": "[encoded data removed]",
      "text/plain": [
       "<Figure size 720x432 with 1 Axes>"
      ]
     },
     "metadata": {},
     "output_type": "display_data"
    }
   ],
   "source": [
    "sns.set(rc={'figure.figsize':(10,6)})\n",
    "sns.kdeplot(data=df, x='hours_per_week', hue='yearly_wage', palette='crest', fill=all).set(title = 'Densidade x horas trabalhadas por semana');#Gráfico Densidade x hours_per_week"
   ]
  },
  {
   "cell_type": "markdown",
   "id": "ebb3b4c5",
   "metadata": {},
   "source": [
    "### Insights \n",
    "- A grande maioria dos trabahadores que recebem salários maiores de 50 mil trabalham pelo menos 40 horas semanais, é esperado que com a dimunição das horas trabalhadas que as chances de ganhar salários maiores diminuam.\n",
    "- Poucas pessoas trabalham mais que 60 horas por semana\n",
    "- A maioria dos trabalhadores que ganham menos que 50 mil trabalham 40 horas semanais. A jornada de trabalho do setor privado normalmente dura 8 horas por dia, a grande densidade pode ser um indicativo que a maioria dos trabalhadores do dataset são empregados no setor privado\n",
    "\n",
    "Investiga-se a distribuição das diferentes classes de trabalho presentes no dataset e ao mesmo tempo cruza-se os dados com o de salário anual através de um histograma"
   ]
  },
  {
   "cell_type": "code",
   "execution_count": 20,
   "id": "5801688d",
   "metadata": {},
   "outputs": [
    {
     "data": {
      "image/png": "[encoded data removed]",
      "text/plain": [
       "<Figure size 576x720 with 1 Axes>"
      ]
     },
     "metadata": {},
     "output_type": "display_data"
    }
   ],
   "source": [
    "sns.set(rc={'figure.figsize':(8,10)})\n",
    "sns.histplot(x=\"yearly_wage\", hue=\"workclass\", palette='bright', data=df, stat=\"percent\", multiple=\"stack\",);"
   ]
  },
  {
   "cell_type": "markdown",
   "id": "ab5100bf",
   "metadata": {},
   "source": [
    "### Insights \n",
    "- A maioria dos trabalhadores são do setor privado, o que justifica a densidade de dados de 40 horas trabalhadas por semana\n",
    "- O setor que domina a quantidade de salários maiores que 50 mil do dataset também é o privado\n",
    "- A maioria das pessoas que são autônomas **e** que trabalham através de entidades corporativas, conhecidos como *Incorporated Self Employed* (Self-emp-inc) ganham mais que 50 mil, já os autônomos que não trabalham através de entidades corporativas (Self-emp-not-inc)\n",
    "\n",
    "Segue-se com a análise de dados com um gráfico de estima de densidade de kernel para os dados de idade, cruzando com os salários anuais."
   ]
  },
  {
   "cell_type": "code",
   "execution_count": 21,
   "id": "a80185f1",
   "metadata": {},
   "outputs": [
    {
     "data": {
      "image/png": "[encoded data removed]",
      "text/plain": [
       "<Figure size 576x720 with 1 Axes>"
      ]
     },
     "metadata": {},
     "output_type": "display_data"
    }
   ],
   "source": [
    "sns.kdeplot(data=df, x='age', hue='yearly_wage', palette='crest', fill=all).set(title = 'Densidade x Idade ');"
   ]
  },
  {
   "cell_type": "markdown",
   "id": "e21aa5e1",
   "metadata": {},
   "source": [
    "### Insights\n",
    "- A idade mínima de quem ganha mais que 50 mil é maior do que quem ganha menos, o que é esperado\n",
    "- A maior densidade de pessoas que ganham **mais** que 50 mil está na faixa etária da meia idade\n",
    "- A maior densidade de pessias que ganham **menos** que 50 mil são mais jovens\n",
    "\n",
    "Seguimos a análise explorando as ocupações e as relações com o salário anual através de um *countplot*\n",
    "\n"
   ]
  },
  {
   "cell_type": "code",
   "execution_count": 22,
   "id": "9783c803",
   "metadata": {},
   "outputs": [
    {
     "data": {
      "image/png": "[encoded data removed]",
      "text/plain": [
       "<Figure size 1800x864 with 1 Axes>"
      ]
     },
     "metadata": {},
     "output_type": "display_data"
    }
   ],
   "source": [
    "sns.set(rc={'figure.figsize':(25,12)})\n",
    "sns.countplot(data=df, x = 'occupation', hue = 'yearly_wage', palette='crest');"
   ]
  },
  {
   "cell_type": "markdown",
   "id": "dfa3554f",
   "metadata": {},
   "source": [
    "### Insights\n",
    "\n",
    "- As ocupações de *Executive Manager* e *Professional Specialty* são as que apresentam não só a maior quantidade de pessoas que ganham mais que 50 mil como apresentam uma boa razão em relação ao total dos trabalhadores nessa área\n",
    "- No histograma não é possível visualizar os dados para a ocupação *Armed-forces* pois a sua ocorrência é pequena. Julga-se não necessário a visualização desse dado individualmente pois a contagem de 9 indivíduos não será suficiente para gerar inferências coerentes\n",
    "\n",
    "Analisa-se, agora, a relação do sexo com o salário anual através de um histograma"
   ]
  },
  {
   "cell_type": "code",
   "execution_count": 23,
   "id": "90eb2b50",
   "metadata": {},
   "outputs": [
    {
     "data": {
      "image/png": "[encoded data removed]",
      "text/plain": [
       "<Figure size 576x432 with 1 Axes>"
      ]
     },
     "metadata": {},
     "output_type": "display_data"
    }
   ],
   "source": [
    "sns.set(rc={'figure.figsize':(8,6)})\n",
    "sns.histplot(binwidth=0.5, x=\"yearly_wage\", hue=\"sex\", data=df, stat=\"percent\", multiple=\"stack\", palette='bright');"
   ]
  },
  {
   "cell_type": "markdown",
   "id": "67f1fc36",
   "metadata": {},
   "source": [
    "### Insights\n",
    "\n",
    "- Observa-se que no nosso dataset homens são maioria\n",
    "- A porcentagem de homens que ganham **mais** de 50 mil, quando comparado ao **percentual total de homens**, é muito maior do que o percentual de mulheres que ganham **mais** que 50 mil comparado com o **percentual total de mulheres.**\n",
    "\n",
    "Segue-se a análise com um histograma que relaciona a raça e o salário anual"
   ]
  },
  {
   "cell_type": "code",
   "execution_count": 24,
   "id": "8607339b",
   "metadata": {},
   "outputs": [
    {
     "data": {
      "image/png": "[encoded data removed]",
      "text/plain": [
       "<Figure size 576x720 with 1 Axes>"
      ]
     },
     "metadata": {},
     "output_type": "display_data"
    }
   ],
   "source": [
    "sns.set(rc={'figure.figsize':(8,10)})\n",
    "sns.histplot(x=\"yearly_wage\", hue=\"race\", palette='bright', data=df, stat=\"percent\", multiple=\"stack\",);"
   ]
  },
  {
   "cell_type": "markdown",
   "id": "705e2216",
   "metadata": {},
   "source": [
    "### Insights\n",
    "\n",
    "- Os dados do dataset são de população predominantemente branca\n",
    "- Dentre as minorias o grupo *'Asian-Pac-Islander'* possui a maior porcentagem de pessoas que ganham mais que 50 mil quando comparados ao percentual total de indivíduos do grupo presentes no dataset\n",
    "\n",
    "Investiga-se a relação do estado civil com o salário anual"
   ]
  },
  {
   "cell_type": "code",
   "execution_count": 25,
   "id": "e00caa8f",
   "metadata": {},
   "outputs": [
    {
     "data": {
      "image/png": "[encoded data removed]",
      "text/plain": [
       "<Figure size 576x720 with 1 Axes>"
      ]
     },
     "metadata": {},
     "output_type": "display_data"
    }
   ],
   "source": [
    "sns.set(rc={'figure.figsize':(8,10)})\n",
    "sns.histplot(x=\"yearly_wage\", hue=\"marital_status\", palette='bright', data=df, stat=\"percent\", multiple=\"stack\",);"
   ]
  },
  {
   "cell_type": "markdown",
   "id": "cda9f43d",
   "metadata": {},
   "source": [
    "### Insights\n",
    "\n",
    "- A maioria das pessoas que ganham *mais* que 50 mil por ano são casadas\n",
    "- Pouquíssimas pessoas separadas sem dissolução de casamento ou viúvas ganham mais que 50 mil\n",
    "- A grande maioria das pessoas que ganham **menos** que 50 mil nunca se casaram, considerando que é mais provável que um jovem ainda não tenha se casado e que a maior parte dos jovens não ganham mais que 50 mil o resultado era esperado"
   ]
  },
  {
   "cell_type": "markdown",
   "id": "cf6d6e62",
   "metadata": {},
   "source": [
    "# 3. Modelo preditivo\n",
    "\n",
    "Os tipos de Machine Learning podem ser dividos em quatro grupos, o de aprendizado supervisionado, semi-supervisionado, não supervisionado e o de aprendizado por reforço. \n",
    "- **Machine learning supervisionado:** utiliza um conjunto de dados rotulados para treinar os algoritmos que estabelecem relações entre os dados de entrada e saída a fim de inferir uma função capaz prever os valores de saídas de novos dados.\n",
    "\n",
    "- **Machine learning não supervisionado:** os algoritmos de machine learning analisam e agrupam dados nao rotulados a fim de descobir padrões sem ser necessária a intervenção humana.\n",
    "\n",
    "- **Machine learning semi-supervisionado:** uma pequena parcela de dados é rotulada e utilizada para orientar a classificação e extração de recursos de um conjunto de dados não rotulado\n",
    "\n",
    "- **Machine learning de reforço:** o modelo não é treinado utilizando amostras, ele aprende com a tentativa e erro.\n",
    "\n",
    "Agora que os dados estão mais limpos e insights foram gerados através das visualizações na análise exploratória, começa-se a seção em que vamos preparar as nossas features para aplicar o modelo, comparar os modelos e por fim prever as categorias de salário"
   ]
  },
  {
   "cell_type": "markdown",
   "id": "ebab4a9b",
   "metadata": {},
   "source": [
    "Inicia-se recapitulando os tipos de dados:"
   ]
  },
  {
   "cell_type": "code",
   "execution_count": 26,
   "id": "7b1a31fb",
   "metadata": {},
   "outputs": [
    {
     "data": {
      "text/plain": [
       "age                int64\n",
       "workclass         object\n",
       "fnlwgt             int64\n",
       "education         object\n",
       "marital_status    object\n",
       "occupation        object\n",
       "relationship      object\n",
       "race              object\n",
       "sex               object\n",
       "capital_gain       int64\n",
       "capital_loss       int64\n",
       "hours_per_week     int64\n",
       "native_country    object\n",
       "yearly_wage       object\n",
       "dtype: object"
      ]
     },
     "execution_count": 26,
     "metadata": {},
     "output_type": "execute_result"
    }
   ],
   "source": [
    "df.dtypes"
   ]
  },
  {
   "cell_type": "markdown",
   "id": "7671ce0d",
   "metadata": {},
   "source": [
    "Cria-se uma variável chamada target que receberá a coluna de *'yearly_wage'*"
   ]
  },
  {
   "cell_type": "code",
   "execution_count": 27,
   "id": "6f602c6d",
   "metadata": {},
   "outputs": [
    {
     "data": {
      "text/plain": [
       "0         <=50K\n",
       "1         <=50K\n",
       "2         <=50K\n",
       "3         <=50K\n",
       "4         <=50K\n",
       "          ...  \n",
       "32555     <=50K\n",
       "32556      >50K\n",
       "32557     <=50K\n",
       "32558     <=50K\n",
       "32559      >50K\n",
       "Name: yearly_wage, Length: 30138, dtype: object"
      ]
     },
     "execution_count": 27,
     "metadata": {},
     "output_type": "execute_result"
    }
   ],
   "source": [
    "target = df['yearly_wage']\n",
    "target"
   ]
  },
  {
   "cell_type": "markdown",
   "id": "828cecfe",
   "metadata": {},
   "source": [
    "Como alguns modelos de machine learning necessitam de variáveis numéricas, substituí-se as categorias pelos seguintes valores:\n",
    "- **Menor ou igual a 50k:** 0\n",
    "- **Maior que 50k:** 1"
   ]
  },
  {
   "cell_type": "code",
   "execution_count": 28,
   "id": "7d332277",
   "metadata": {},
   "outputs": [
    {
     "data": {
      "text/html": [
       "<div>\n",
       "<style scoped>\n",
       "    .dataframe tbody tr th:only-of-type {\n",
       "        vertical-align: middle;\n",
       "    }\n",
       "\n",
       "    .dataframe tbody tr th {\n",
       "        vertical-align: top;\n",
       "    }\n",
       "\n",
       "    .dataframe thead th {\n",
       "        text-align: right;\n",
       "    }\n",
       "</style>\n",
       "<table border=\"1\" class=\"dataframe\">\n",
       "  <thead>\n",
       "    <tr style=\"text-align: right;\">\n",
       "      <th></th>\n",
       "      <th>age</th>\n",
       "      <th>workclass</th>\n",
       "      <th>fnlwgt</th>\n",
       "      <th>education</th>\n",
       "      <th>marital_status</th>\n",
       "      <th>occupation</th>\n",
       "      <th>relationship</th>\n",
       "      <th>race</th>\n",
       "      <th>sex</th>\n",
       "      <th>capital_gain</th>\n",
       "      <th>capital_loss</th>\n",
       "      <th>hours_per_week</th>\n",
       "      <th>native_country</th>\n",
       "      <th>yearly_wage</th>\n",
       "    </tr>\n",
       "  </thead>\n",
       "  <tbody>\n",
       "    <tr>\n",
       "      <th>0</th>\n",
       "      <td>50</td>\n",
       "      <td>Self-emp-not-inc</td>\n",
       "      <td>83311</td>\n",
       "      <td>Bachelors</td>\n",
       "      <td>Married</td>\n",
       "      <td>Exec-managerial</td>\n",
       "      <td>Husband</td>\n",
       "      <td>White</td>\n",
       "      <td>Male</td>\n",
       "      <td>0</td>\n",
       "      <td>0</td>\n",
       "      <td>13</td>\n",
       "      <td>United-States</td>\n",
       "      <td>0</td>\n",
       "    </tr>\n",
       "    <tr>\n",
       "      <th>1</th>\n",
       "      <td>38</td>\n",
       "      <td>Private</td>\n",
       "      <td>215646</td>\n",
       "      <td>HS-grad</td>\n",
       "      <td>Divorced</td>\n",
       "      <td>Handlers-cleaners</td>\n",
       "      <td>Not-in-family</td>\n",
       "      <td>White</td>\n",
       "      <td>Male</td>\n",
       "      <td>0</td>\n",
       "      <td>0</td>\n",
       "      <td>40</td>\n",
       "      <td>United-States</td>\n",
       "      <td>0</td>\n",
       "    </tr>\n",
       "    <tr>\n",
       "      <th>2</th>\n",
       "      <td>53</td>\n",
       "      <td>Private</td>\n",
       "      <td>234721</td>\n",
       "      <td>HS-Dropout</td>\n",
       "      <td>Married</td>\n",
       "      <td>Handlers-cleaners</td>\n",
       "      <td>Husband</td>\n",
       "      <td>Black</td>\n",
       "      <td>Male</td>\n",
       "      <td>0</td>\n",
       "      <td>0</td>\n",
       "      <td>40</td>\n",
       "      <td>United-States</td>\n",
       "      <td>0</td>\n",
       "    </tr>\n",
       "    <tr>\n",
       "      <th>3</th>\n",
       "      <td>28</td>\n",
       "      <td>Private</td>\n",
       "      <td>338409</td>\n",
       "      <td>Bachelors</td>\n",
       "      <td>Married</td>\n",
       "      <td>Prof-specialty</td>\n",
       "      <td>Wife</td>\n",
       "      <td>Black</td>\n",
       "      <td>Female</td>\n",
       "      <td>0</td>\n",
       "      <td>0</td>\n",
       "      <td>40</td>\n",
       "      <td>Cuba</td>\n",
       "      <td>0</td>\n",
       "    </tr>\n",
       "    <tr>\n",
       "      <th>4</th>\n",
       "      <td>37</td>\n",
       "      <td>Private</td>\n",
       "      <td>284582</td>\n",
       "      <td>Masters</td>\n",
       "      <td>Married</td>\n",
       "      <td>Exec-managerial</td>\n",
       "      <td>Wife</td>\n",
       "      <td>White</td>\n",
       "      <td>Female</td>\n",
       "      <td>0</td>\n",
       "      <td>0</td>\n",
       "      <td>40</td>\n",
       "      <td>United-States</td>\n",
       "      <td>0</td>\n",
       "    </tr>\n",
       "  </tbody>\n",
       "</table>\n",
       "</div>"
      ],
      "text/plain": [
       "   age          workclass  fnlwgt    education marital_status  \\\n",
       "0   50   Self-emp-not-inc   83311    Bachelors        Married   \n",
       "1   38            Private  215646      HS-grad       Divorced   \n",
       "2   53            Private  234721   HS-Dropout        Married   \n",
       "3   28            Private  338409    Bachelors        Married   \n",
       "4   37            Private  284582      Masters        Married   \n",
       "\n",
       "           occupation    relationship    race      sex  capital_gain  \\\n",
       "0     Exec-managerial         Husband   White     Male             0   \n",
       "1   Handlers-cleaners   Not-in-family   White     Male             0   \n",
       "2   Handlers-cleaners         Husband   Black     Male             0   \n",
       "3      Prof-specialty            Wife   Black   Female             0   \n",
       "4     Exec-managerial            Wife   White   Female             0   \n",
       "\n",
       "   capital_loss  hours_per_week  native_country  yearly_wage  \n",
       "0             0              13   United-States            0  \n",
       "1             0              40   United-States            0  \n",
       "2             0              40   United-States            0  \n",
       "3             0              40            Cuba            0  \n",
       "4             0              40   United-States            0  "
      ]
     },
     "execution_count": 28,
     "metadata": {},
     "output_type": "execute_result"
    }
   ],
   "source": [
    "target.replace([' <=50K'], 0, inplace = True)\n",
    "target.replace([' >50K'], 1, inplace = True)\n",
    "df.head() #Printa as primeiras linhas para verificar a mudança"
   ]
  },
  {
   "cell_type": "markdown",
   "id": "f5db857d",
   "metadata": {},
   "source": [
    "###### \n",
    "Precisamos realizar o encoding (processo de conversão de colunas categóricas em colunas numéricas) do resto dos dados:"
   ]
  },
  {
   "cell_type": "code",
   "execution_count": 29,
   "id": "4b6b23c7",
   "metadata": {},
   "outputs": [],
   "source": [
    "df = df.drop('yearly_wage', axis=1)"
   ]
  },
  {
   "cell_type": "code",
   "execution_count": 30,
   "id": "1d94adba",
   "metadata": {},
   "outputs": [],
   "source": [
    "type_groups = df.columns.to_series().groupby(df.dtypes).groups\n",
    "type_groups_dict = {k.name: v for k, v in type_groups.items()}\n",
    "object_columns = type_groups_dict[\"object\"].to_list()"
   ]
  },
  {
   "cell_type": "markdown",
   "id": "bc84313a",
   "metadata": {},
   "source": [
    "Realiza-se o one-hot encoding dos dados categóricos. O one hot encoding é útil pois alguns modelos de machine learning tratam a ordem de números como um atributo que tem significância."
   ]
  },
  {
   "cell_type": "code",
   "execution_count": 31,
   "id": "351e7377",
   "metadata": {},
   "outputs": [],
   "source": [
    "train = pd.get_dummies(data = df, columns=object_columns)"
   ]
  },
  {
   "cell_type": "code",
   "execution_count": 32,
   "id": "6538587a",
   "metadata": {
    "scrolled": true
   },
   "outputs": [
    {
     "data": {
      "text/html": [
       "<div>\n",
       "<style scoped>\n",
       "    .dataframe tbody tr th:only-of-type {\n",
       "        vertical-align: middle;\n",
       "    }\n",
       "\n",
       "    .dataframe tbody tr th {\n",
       "        vertical-align: top;\n",
       "    }\n",
       "\n",
       "    .dataframe thead th {\n",
       "        text-align: right;\n",
       "    }\n",
       "</style>\n",
       "<table border=\"1\" class=\"dataframe\">\n",
       "  <thead>\n",
       "    <tr style=\"text-align: right;\">\n",
       "      <th></th>\n",
       "      <th>age</th>\n",
       "      <th>fnlwgt</th>\n",
       "      <th>capital_gain</th>\n",
       "      <th>capital_loss</th>\n",
       "      <th>hours_per_week</th>\n",
       "      <th>workclass_ Federal-gov</th>\n",
       "      <th>workclass_ Local-gov</th>\n",
       "      <th>workclass_ Private</th>\n",
       "      <th>workclass_ Self-emp-inc</th>\n",
       "      <th>workclass_ Self-emp-not-inc</th>\n",
       "      <th>...</th>\n",
       "      <th>native_country_ Portugal</th>\n",
       "      <th>native_country_ Puerto-Rico</th>\n",
       "      <th>native_country_ Scotland</th>\n",
       "      <th>native_country_ South</th>\n",
       "      <th>native_country_ Taiwan</th>\n",
       "      <th>native_country_ Thailand</th>\n",
       "      <th>native_country_ Trinadad&amp;Tobago</th>\n",
       "      <th>native_country_ United-States</th>\n",
       "      <th>native_country_ Vietnam</th>\n",
       "      <th>native_country_ Yugoslavia</th>\n",
       "    </tr>\n",
       "  </thead>\n",
       "  <tbody>\n",
       "    <tr>\n",
       "      <th>0</th>\n",
       "      <td>50</td>\n",
       "      <td>83311</td>\n",
       "      <td>0</td>\n",
       "      <td>0</td>\n",
       "      <td>13</td>\n",
       "      <td>0</td>\n",
       "      <td>0</td>\n",
       "      <td>0</td>\n",
       "      <td>0</td>\n",
       "      <td>1</td>\n",
       "      <td>...</td>\n",
       "      <td>0</td>\n",
       "      <td>0</td>\n",
       "      <td>0</td>\n",
       "      <td>0</td>\n",
       "      <td>0</td>\n",
       "      <td>0</td>\n",
       "      <td>0</td>\n",
       "      <td>1</td>\n",
       "      <td>0</td>\n",
       "      <td>0</td>\n",
       "    </tr>\n",
       "    <tr>\n",
       "      <th>1</th>\n",
       "      <td>38</td>\n",
       "      <td>215646</td>\n",
       "      <td>0</td>\n",
       "      <td>0</td>\n",
       "      <td>40</td>\n",
       "      <td>0</td>\n",
       "      <td>0</td>\n",
       "      <td>1</td>\n",
       "      <td>0</td>\n",
       "      <td>0</td>\n",
       "      <td>...</td>\n",
       "      <td>0</td>\n",
       "      <td>0</td>\n",
       "      <td>0</td>\n",
       "      <td>0</td>\n",
       "      <td>0</td>\n",
       "      <td>0</td>\n",
       "      <td>0</td>\n",
       "      <td>1</td>\n",
       "      <td>0</td>\n",
       "      <td>0</td>\n",
       "    </tr>\n",
       "    <tr>\n",
       "      <th>2</th>\n",
       "      <td>53</td>\n",
       "      <td>234721</td>\n",
       "      <td>0</td>\n",
       "      <td>0</td>\n",
       "      <td>40</td>\n",
       "      <td>0</td>\n",
       "      <td>0</td>\n",
       "      <td>1</td>\n",
       "      <td>0</td>\n",
       "      <td>0</td>\n",
       "      <td>...</td>\n",
       "      <td>0</td>\n",
       "      <td>0</td>\n",
       "      <td>0</td>\n",
       "      <td>0</td>\n",
       "      <td>0</td>\n",
       "      <td>0</td>\n",
       "      <td>0</td>\n",
       "      <td>1</td>\n",
       "      <td>0</td>\n",
       "      <td>0</td>\n",
       "    </tr>\n",
       "    <tr>\n",
       "      <th>3</th>\n",
       "      <td>28</td>\n",
       "      <td>338409</td>\n",
       "      <td>0</td>\n",
       "      <td>0</td>\n",
       "      <td>40</td>\n",
       "      <td>0</td>\n",
       "      <td>0</td>\n",
       "      <td>1</td>\n",
       "      <td>0</td>\n",
       "      <td>0</td>\n",
       "      <td>...</td>\n",
       "      <td>0</td>\n",
       "      <td>0</td>\n",
       "      <td>0</td>\n",
       "      <td>0</td>\n",
       "      <td>0</td>\n",
       "      <td>0</td>\n",
       "      <td>0</td>\n",
       "      <td>0</td>\n",
       "      <td>0</td>\n",
       "      <td>0</td>\n",
       "    </tr>\n",
       "    <tr>\n",
       "      <th>4</th>\n",
       "      <td>37</td>\n",
       "      <td>284582</td>\n",
       "      <td>0</td>\n",
       "      <td>0</td>\n",
       "      <td>40</td>\n",
       "      <td>0</td>\n",
       "      <td>0</td>\n",
       "      <td>1</td>\n",
       "      <td>0</td>\n",
       "      <td>0</td>\n",
       "      <td>...</td>\n",
       "      <td>0</td>\n",
       "      <td>0</td>\n",
       "      <td>0</td>\n",
       "      <td>0</td>\n",
       "      <td>0</td>\n",
       "      <td>0</td>\n",
       "      <td>0</td>\n",
       "      <td>1</td>\n",
       "      <td>0</td>\n",
       "      <td>0</td>\n",
       "    </tr>\n",
       "    <tr>\n",
       "      <th>...</th>\n",
       "      <td>...</td>\n",
       "      <td>...</td>\n",
       "      <td>...</td>\n",
       "      <td>...</td>\n",
       "      <td>...</td>\n",
       "      <td>...</td>\n",
       "      <td>...</td>\n",
       "      <td>...</td>\n",
       "      <td>...</td>\n",
       "      <td>...</td>\n",
       "      <td>...</td>\n",
       "      <td>...</td>\n",
       "      <td>...</td>\n",
       "      <td>...</td>\n",
       "      <td>...</td>\n",
       "      <td>...</td>\n",
       "      <td>...</td>\n",
       "      <td>...</td>\n",
       "      <td>...</td>\n",
       "      <td>...</td>\n",
       "      <td>...</td>\n",
       "    </tr>\n",
       "    <tr>\n",
       "      <th>32555</th>\n",
       "      <td>27</td>\n",
       "      <td>257302</td>\n",
       "      <td>0</td>\n",
       "      <td>0</td>\n",
       "      <td>38</td>\n",
       "      <td>0</td>\n",
       "      <td>0</td>\n",
       "      <td>1</td>\n",
       "      <td>0</td>\n",
       "      <td>0</td>\n",
       "      <td>...</td>\n",
       "      <td>0</td>\n",
       "      <td>0</td>\n",
       "      <td>0</td>\n",
       "      <td>0</td>\n",
       "      <td>0</td>\n",
       "      <td>0</td>\n",
       "      <td>0</td>\n",
       "      <td>1</td>\n",
       "      <td>0</td>\n",
       "      <td>0</td>\n",
       "    </tr>\n",
       "    <tr>\n",
       "      <th>32556</th>\n",
       "      <td>40</td>\n",
       "      <td>154374</td>\n",
       "      <td>0</td>\n",
       "      <td>0</td>\n",
       "      <td>40</td>\n",
       "      <td>0</td>\n",
       "      <td>0</td>\n",
       "      <td>1</td>\n",
       "      <td>0</td>\n",
       "      <td>0</td>\n",
       "      <td>...</td>\n",
       "      <td>0</td>\n",
       "      <td>0</td>\n",
       "      <td>0</td>\n",
       "      <td>0</td>\n",
       "      <td>0</td>\n",
       "      <td>0</td>\n",
       "      <td>0</td>\n",
       "      <td>1</td>\n",
       "      <td>0</td>\n",
       "      <td>0</td>\n",
       "    </tr>\n",
       "    <tr>\n",
       "      <th>32557</th>\n",
       "      <td>58</td>\n",
       "      <td>151910</td>\n",
       "      <td>0</td>\n",
       "      <td>0</td>\n",
       "      <td>40</td>\n",
       "      <td>0</td>\n",
       "      <td>0</td>\n",
       "      <td>1</td>\n",
       "      <td>0</td>\n",
       "      <td>0</td>\n",
       "      <td>...</td>\n",
       "      <td>0</td>\n",
       "      <td>0</td>\n",
       "      <td>0</td>\n",
       "      <td>0</td>\n",
       "      <td>0</td>\n",
       "      <td>0</td>\n",
       "      <td>0</td>\n",
       "      <td>1</td>\n",
       "      <td>0</td>\n",
       "      <td>0</td>\n",
       "    </tr>\n",
       "    <tr>\n",
       "      <th>32558</th>\n",
       "      <td>22</td>\n",
       "      <td>201490</td>\n",
       "      <td>0</td>\n",
       "      <td>0</td>\n",
       "      <td>20</td>\n",
       "      <td>0</td>\n",
       "      <td>0</td>\n",
       "      <td>1</td>\n",
       "      <td>0</td>\n",
       "      <td>0</td>\n",
       "      <td>...</td>\n",
       "      <td>0</td>\n",
       "      <td>0</td>\n",
       "      <td>0</td>\n",
       "      <td>0</td>\n",
       "      <td>0</td>\n",
       "      <td>0</td>\n",
       "      <td>0</td>\n",
       "      <td>1</td>\n",
       "      <td>0</td>\n",
       "      <td>0</td>\n",
       "    </tr>\n",
       "    <tr>\n",
       "      <th>32559</th>\n",
       "      <td>52</td>\n",
       "      <td>287927</td>\n",
       "      <td>15024</td>\n",
       "      <td>0</td>\n",
       "      <td>40</td>\n",
       "      <td>0</td>\n",
       "      <td>0</td>\n",
       "      <td>0</td>\n",
       "      <td>1</td>\n",
       "      <td>0</td>\n",
       "      <td>...</td>\n",
       "      <td>0</td>\n",
       "      <td>0</td>\n",
       "      <td>0</td>\n",
       "      <td>0</td>\n",
       "      <td>0</td>\n",
       "      <td>0</td>\n",
       "      <td>0</td>\n",
       "      <td>1</td>\n",
       "      <td>0</td>\n",
       "      <td>0</td>\n",
       "    </tr>\n",
       "  </tbody>\n",
       "</table>\n",
       "<p>30138 rows × 93 columns</p>\n",
       "</div>"
      ],
      "text/plain": [
       "       age  fnlwgt  capital_gain  capital_loss  hours_per_week  \\\n",
       "0       50   83311             0             0              13   \n",
       "1       38  215646             0             0              40   \n",
       "2       53  234721             0             0              40   \n",
       "3       28  338409             0             0              40   \n",
       "4       37  284582             0             0              40   \n",
       "...    ...     ...           ...           ...             ...   \n",
       "32555   27  257302             0             0              38   \n",
       "32556   40  154374             0             0              40   \n",
       "32557   58  151910             0             0              40   \n",
       "32558   22  201490             0             0              20   \n",
       "32559   52  287927         15024             0              40   \n",
       "\n",
       "       workclass_ Federal-gov  workclass_ Local-gov  workclass_ Private  \\\n",
       "0                           0                     0                   0   \n",
       "1                           0                     0                   1   \n",
       "2                           0                     0                   1   \n",
       "3                           0                     0                   1   \n",
       "4                           0                     0                   1   \n",
       "...                       ...                   ...                 ...   \n",
       "32555                       0                     0                   1   \n",
       "32556                       0                     0                   1   \n",
       "32557                       0                     0                   1   \n",
       "32558                       0                     0                   1   \n",
       "32559                       0                     0                   0   \n",
       "\n",
       "       workclass_ Self-emp-inc  workclass_ Self-emp-not-inc  ...  \\\n",
       "0                            0                            1  ...   \n",
       "1                            0                            0  ...   \n",
       "2                            0                            0  ...   \n",
       "3                            0                            0  ...   \n",
       "4                            0                            0  ...   \n",
       "...                        ...                          ...  ...   \n",
       "32555                        0                            0  ...   \n",
       "32556                        0                            0  ...   \n",
       "32557                        0                            0  ...   \n",
       "32558                        0                            0  ...   \n",
       "32559                        1                            0  ...   \n",
       "\n",
       "       native_country_ Portugal  native_country_ Puerto-Rico  \\\n",
       "0                             0                            0   \n",
       "1                             0                            0   \n",
       "2                             0                            0   \n",
       "3                             0                            0   \n",
       "4                             0                            0   \n",
       "...                         ...                          ...   \n",
       "32555                         0                            0   \n",
       "32556                         0                            0   \n",
       "32557                         0                            0   \n",
       "32558                         0                            0   \n",
       "32559                         0                            0   \n",
       "\n",
       "       native_country_ Scotland  native_country_ South  \\\n",
       "0                             0                      0   \n",
       "1                             0                      0   \n",
       "2                             0                      0   \n",
       "3                             0                      0   \n",
       "4                             0                      0   \n",
       "...                         ...                    ...   \n",
       "32555                         0                      0   \n",
       "32556                         0                      0   \n",
       "32557                         0                      0   \n",
       "32558                         0                      0   \n",
       "32559                         0                      0   \n",
       "\n",
       "       native_country_ Taiwan  native_country_ Thailand  \\\n",
       "0                           0                         0   \n",
       "1                           0                         0   \n",
       "2                           0                         0   \n",
       "3                           0                         0   \n",
       "4                           0                         0   \n",
       "...                       ...                       ...   \n",
       "32555                       0                         0   \n",
       "32556                       0                         0   \n",
       "32557                       0                         0   \n",
       "32558                       0                         0   \n",
       "32559                       0                         0   \n",
       "\n",
       "       native_country_ Trinadad&Tobago  native_country_ United-States  \\\n",
       "0                                    0                              1   \n",
       "1                                    0                              1   \n",
       "2                                    0                              1   \n",
       "3                                    0                              0   \n",
       "4                                    0                              1   \n",
       "...                                ...                            ...   \n",
       "32555                                0                              1   \n",
       "32556                                0                              1   \n",
       "32557                                0                              1   \n",
       "32558                                0                              1   \n",
       "32559                                0                              1   \n",
       "\n",
       "       native_country_ Vietnam  native_country_ Yugoslavia  \n",
       "0                            0                           0  \n",
       "1                            0                           0  \n",
       "2                            0                           0  \n",
       "3                            0                           0  \n",
       "4                            0                           0  \n",
       "...                        ...                         ...  \n",
       "32555                        0                           0  \n",
       "32556                        0                           0  \n",
       "32557                        0                           0  \n",
       "32558                        0                           0  \n",
       "32559                        0                           0  \n",
       "\n",
       "[30138 rows x 93 columns]"
      ]
     },
     "execution_count": 32,
     "metadata": {},
     "output_type": "execute_result"
    }
   ],
   "source": [
    "train #imprime os dados de treino após o enconding"
   ]
  },
  {
   "cell_type": "markdown",
   "id": "4e9a2e7a",
   "metadata": {},
   "source": [
    "###### \n",
    "Importa-se, então as bibliotecas necessárias para a aplicação e comparação de modelos"
   ]
  },
  {
   "cell_type": "code",
   "execution_count": 33,
   "id": "1f2939a3",
   "metadata": {},
   "outputs": [],
   "source": [
    "from sklearn.model_selection import train_test_split, cross_val_score, StratifiedKFold\n",
    "from statistics import mean, stdev\n",
    "from sklearn import preprocessing"
   ]
  },
  {
   "cell_type": "markdown",
   "id": "f451cb2e",
   "metadata": {},
   "source": [
    "### 3.1 Comparação de modelos \n",
    "\n",
    "Para comparar diferentes modelos de machine learning e realizar uma escolha informada sobre qual usar para o problema enfrentado, irá-se usar a técnica de Validação Cruzada utilizando o *Stratified K Fold*, dessa forma garante-se que os dados serão dividos de forma uniforme entre os folds. Além disso, se utilizará a acurácia como medida de performance.\n",
    "\n",
    "Existem diversos modelos para a resolução de problema de classificação, elenca-se que a comparação entre modelos será feita com os seguintes modelos:\n",
    "\n",
    "- **Logistic Regression:** mede a relação a variável dependente e uma ou mais variáveis independentes estimando probabilidades usand ouma função logística\n",
    "- **K-Nearest Neighbors:** atribui pesos de acordo com a distância determinado ponto de dado aos pontos vizinhos.\n",
    "- **Decision Trees:** separa o dataset em menores subsets e estabelece nós de decisão que se relacionam entre si por uma hierarquia \n",
    "- **Random Forrest:** esse algoritmo cria várias árvores de decisão. É um *emsemble algorithm* ou seja, é um algoritmo que utiliza a combinação de diferentes modelos para obter um único resultado. Apresenta maior demanda computacional, mas geralmente gera melhores resultados\n",
    "- **Gradient Boosting Classification:** também é um *ensemble algorithm*, esse modelo tem uma abordagem sequencial e cada árvore de decisão prevê o erro da árvore de decisão anterior.\n"
   ]
  },
  {
   "cell_type": "code",
   "execution_count": 34,
   "id": "2ee331a2",
   "metadata": {},
   "outputs": [],
   "source": [
    "from sklearn.ensemble import RandomForestClassifier, GradientBoostingClassifier #importa os 2 ensemble algorithms que serão testados\n",
    "from sklearn.linear_model import LogisticRegression #importa o modelo de Regressão logística\n",
    "from sklearn.neighbors import KNeighborsClassifier # impota o modelo Kneighbors\n",
    "from sklearn.tree import DecisionTreeClassifier #importa o modelo de árvores de devisão"
   ]
  },
  {
   "cell_type": "markdown",
   "id": "54367c9b",
   "metadata": {},
   "source": [
    "Para a aplicação dos modelos será necessário a aplicação de um scaler"
   ]
  },
  {
   "cell_type": "code",
   "execution_count": 35,
   "id": "6707175f",
   "metadata": {},
   "outputs": [],
   "source": [
    "scaler = preprocessing.StandardScaler() #variável scaler recebe o standart scaler da biblioteca preprocessing\n",
    "train_numpy = scaler.fit_transform(train) #aplicação do scaler"
   ]
  },
  {
   "cell_type": "code",
   "execution_count": 36,
   "id": "2e2192e6",
   "metadata": {},
   "outputs": [
    {
     "data": {
      "text/plain": [
       "array([0, 0, 0, ..., 0, 0, 1], dtype=int64)"
      ]
     },
     "execution_count": 36,
     "metadata": {},
     "output_type": "execute_result"
    }
   ],
   "source": [
    "target_numpy = target.to_numpy()\n",
    "target_numpy"
   ]
  },
  {
   "cell_type": "markdown",
   "id": "ebea0ba7",
   "metadata": {},
   "source": [
    "Então divide-se os dados de teste e treino"
   ]
  },
  {
   "cell_type": "code",
   "execution_count": 37,
   "id": "7137500b",
   "metadata": {},
   "outputs": [],
   "source": [
    "X_train, X_test, y_train, y_test = train_test_split(train_numpy, target_numpy, test_size= 0.30, random_state = 0)"
   ]
  },
  {
   "cell_type": "markdown",
   "id": "680c7513",
   "metadata": {},
   "source": [
    "Verifica-se a forma dos dados de teste e treino"
   ]
  },
  {
   "cell_type": "code",
   "execution_count": 38,
   "id": "f05f4239",
   "metadata": {},
   "outputs": [
    {
     "data": {
      "text/plain": [
       "((21096, 93), (21096,), (9042, 93), (9042,))"
      ]
     },
     "execution_count": 38,
     "metadata": {},
     "output_type": "execute_result"
    }
   ],
   "source": [
    "X_train.shape, y_train.shape, X_test.shape, y_test.shape,"
   ]
  },
  {
   "cell_type": "markdown",
   "id": "2bb35173",
   "metadata": {},
   "source": [
    "Importa-se algumas bibliotecas para obter as métricas dos modelos"
   ]
  },
  {
   "cell_type": "code",
   "execution_count": 39,
   "id": "7397b615",
   "metadata": {},
   "outputs": [],
   "source": [
    "from sklearn.metrics import accuracy_score, classification_report"
   ]
  },
  {
   "cell_type": "markdown",
   "id": "e754d315",
   "metadata": {},
   "source": [
    "Executa-se a covalidação por kfold para cada modelo e ao fim será realizada a análise dos resultados obtidos"
   ]
  },
  {
   "cell_type": "code",
   "execution_count": 40,
   "id": "b9d78682",
   "metadata": {},
   "outputs": [],
   "source": [
    "lr = LogisticRegression()"
   ]
  },
  {
   "cell_type": "code",
   "execution_count": 41,
   "id": "27665b50",
   "metadata": {},
   "outputs": [
    {
     "name": "stdout",
     "output_type": "stream",
     "text": [
      "[0.847378898473789, 0.8573324485733245, 0.8543463835434638, 0.8414067684140677, 0.8556735235567352, 0.8480424684804246, 0.8480424684804246, 0.8417385534173856, 0.8430136076999668, 0.8446730833056754]\n",
      "\n",
      "Acurácia Máxima: 85.73324485733245 %\n",
      "\n",
      "Acurácia Mínima: 84.14067684140677 %\n",
      "\n",
      "Overall Accuracy: 84.81648203945257 %\n",
      "\n",
      "O desvio padrão é: 0.005821232780555685\n"
     ]
    }
   ],
   "source": [
    "cv= StratifiedKFold(n_splits=10, shuffle=True, random_state=1)\n",
    "accu_list = []  \n",
    "for train_index, test_index in cv.split(train_numpy, target_numpy):\n",
    "    x_train_fold, x_test_fold = train_numpy[train_index], train_numpy[test_index]\n",
    "    y_train_fold, y_test_fold = target_numpy[train_index], target_numpy[test_index]\n",
    "    lr.fit(x_train_fold, y_train_fold)\n",
    "    accu_list.append(lr.score(x_test_fold, y_test_fold))\n",
    "    \n",
    "print(accu_list)\n",
    "print('\\nAcurácia Máxima:',\n",
    "      max(accu_list)*100, '%')\n",
    "print('\\nAcurácia Mínima:',\n",
    "      min(accu_list)*100, '%')\n",
    "print('\\nOverall Accuracy:',\n",
    "      mean(accu_list)*100, '%')\n",
    "print('\\nO desvio padrão é:', stdev(accu_list))"
   ]
  },
  {
   "cell_type": "code",
   "execution_count": 42,
   "id": "351ac863",
   "metadata": {},
   "outputs": [],
   "source": [
    "tree = DecisionTreeClassifier()"
   ]
  },
  {
   "cell_type": "code",
   "execution_count": 43,
   "id": "70f60d8a",
   "metadata": {},
   "outputs": [
    {
     "name": "stdout",
     "output_type": "stream",
     "text": [
      "\n",
      "Acurácia Máxima: 85.73324485733245 %\n",
      "\n",
      "Acurácia Mínima: 79.56204379562044 %\n",
      "\n",
      "Overall Accuracy: 82.87872052338561 %\n",
      "\n",
      "O desvio padrão é: 0.0214430519289722\n"
     ]
    }
   ],
   "source": [
    "for train_index, test_index in cv.split(train_numpy, target_numpy):\n",
    "    x_train_fold, x_test_fold = train_numpy[train_index], train_numpy[test_index]\n",
    "    y_train_fold, y_test_fold = target_numpy[train_index], target_numpy[test_index]\n",
    "    tree.fit(x_train_fold, y_train_fold)\n",
    "    accu_list.append(tree.score(x_test_fold, y_test_fold))\n",
    "\n",
    "print('\\nAcurácia Máxima:',\n",
    "      max(accu_list)*100, '%')\n",
    "print('\\nAcurácia Mínima:',\n",
    "      min(accu_list)*100, '%')\n",
    "print('\\nOverall Accuracy:',\n",
    "      mean(accu_list)*100, '%')\n",
    "print('\\nO desvio padrão é:', stdev(accu_list))"
   ]
  },
  {
   "cell_type": "code",
   "execution_count": 44,
   "id": "45f79894",
   "metadata": {},
   "outputs": [],
   "source": [
    "RFC = RandomForestClassifier()"
   ]
  },
  {
   "cell_type": "code",
   "execution_count": 45,
   "id": "a92582eb",
   "metadata": {},
   "outputs": [
    {
     "name": "stdout",
     "output_type": "stream",
     "text": [
      "\n",
      "Acurácia Máxima: 86.33045786330457 %\n",
      "\n",
      "Acurácia Mínima: 79.56204379562044 %\n",
      "\n",
      "Overall Accuracy: 83.65293379944005 %\n",
      "\n",
      "O desvio padrão é: 0.020968358297054956\n"
     ]
    }
   ],
   "source": [
    "for train_index, test_index in cv.split(train_numpy, target_numpy):\n",
    "    x_train_fold, x_test_fold = train_numpy[train_index], train_numpy[test_index]\n",
    "    y_train_fold, y_test_fold = target_numpy[train_index], target_numpy[test_index]\n",
    "    RFC.fit(x_train_fold, y_train_fold)\n",
    "    accu_list.append(RFC.score(x_test_fold, y_test_fold))\n",
    "\n",
    "print('\\nAcurácia Máxima:',\n",
    "      max(accu_list)*100, '%')\n",
    "print('\\nAcurácia Mínima:',\n",
    "      min(accu_list)*100, '%')\n",
    "print('\\nOverall Accuracy:',\n",
    "      mean(accu_list)*100, '%')\n",
    "print('\\nO desvio padrão é:', stdev(accu_list))"
   ]
  },
  {
   "cell_type": "code",
   "execution_count": 46,
   "id": "2e7febf9",
   "metadata": {},
   "outputs": [
    {
     "name": "stdout",
     "output_type": "stream",
     "text": [
      "\n",
      "Acurácia Máxima: 87.52488387524883 %\n",
      "\n",
      "Acurácia Mínima: 79.56204379562044 %\n",
      "\n",
      "Overall Accuracy: 84.30715131576484 %\n",
      "\n",
      "O desvio padrão é: 0.021634794545553445\n"
     ]
    }
   ],
   "source": [
    "GBC = GradientBoostingClassifier()\n",
    "\n",
    "for train_index, test_index in cv.split(train_numpy, target_numpy):\n",
    "    x_train_fold, x_test_fold = train_numpy[train_index], train_numpy[test_index]\n",
    "    y_train_fold, y_test_fold = target_numpy[train_index], target_numpy[test_index]\n",
    "    GBC.fit(x_train_fold, y_train_fold)\n",
    "    accu_list.append(GBC.score(x_test_fold, y_test_fold))\n",
    "    \n",
    "print('\\nAcurácia Máxima:',\n",
    "      max(accu_list)*100, '%')\n",
    "print('\\nAcurácia Mínima:',\n",
    "      min(accu_list)*100, '%')\n",
    "print('\\nOverall Accuracy:',\n",
    "      mean(accu_list)*100, '%')\n",
    "print('\\nO desvio padrão é:', stdev(accu_list))"
   ]
  },
  {
   "cell_type": "code",
   "execution_count": 47,
   "id": "607ee0a8",
   "metadata": {},
   "outputs": [
    {
     "name": "stdout",
     "output_type": "stream",
     "text": [
      "\n",
      "Acurácia Máxima: 87.52488387524883 %\n",
      "\n",
      "Acurácia Mínima: 79.56204379562044 %\n",
      "\n",
      "Overall Accuracy: 83.89803816287352 %\n",
      "\n",
      "O desvio padrão é: 0.021155836769081567\n"
     ]
    }
   ],
   "source": [
    "kn = KNeighborsClassifier()\n",
    "\n",
    "for train_index, test_index in cv.split(train_numpy, target_numpy):\n",
    "    x_train_fold, x_test_fold = train_numpy[train_index], train_numpy[test_index]\n",
    "    y_train_fold, y_test_fold = target_numpy[train_index], target_numpy[test_index]\n",
    "    kn.fit(x_train_fold, y_train_fold)\n",
    "    accu_list.append(kn.score(x_test_fold, y_test_fold))\n",
    "    \n",
    "print('\\nAcurácia Máxima:',\n",
    "      max(accu_list)*100, '%')\n",
    "print('\\nAcurácia Mínima:',\n",
    "      min(accu_list)*100, '%')\n",
    "print('\\nOverall Accuracy:',\n",
    "      mean(accu_list)*100, '%')\n",
    "print('\\nO desvio padrão é:', stdev(accu_list))"
   ]
  },
  {
   "cell_type": "markdown",
   "id": "90739746",
   "metadata": {},
   "source": [
    "Utilizando como critério a maior *Overall Accuracy* temos que o modelo de regressão logística e Gradient Boosting performaram melhor. Realiza-se então a predição com ambos modelos"
   ]
  },
  {
   "cell_type": "code",
   "execution_count": 48,
   "id": "6d9f2a5e",
   "metadata": {},
   "outputs": [
    {
     "data": {
      "text/plain": [
       "0.8441716434417165"
      ]
     },
     "execution_count": 48,
     "metadata": {},
     "output_type": "execute_result"
    }
   ],
   "source": [
    "lr.fit(X_train, y_train)\n",
    "y_pred = lr.predict(X_test)\n",
    "accuracy_score(y_pred, y_test)"
   ]
  },
  {
   "cell_type": "code",
   "execution_count": 103,
   "id": "d6b119da",
   "metadata": {},
   "outputs": [
    {
     "data": {
      "text/plain": [
       "0.8589913735899137"
      ]
     },
     "execution_count": 103,
     "metadata": {},
     "output_type": "execute_result"
    }
   ],
   "source": [
    "GBC.fit(X_train,y_train)\n",
    "y_pred = GBC.predict(X_test)\n",
    "accuracy_score (y_pred, y_test)"
   ]
  },
  {
   "cell_type": "markdown",
   "id": "e8253763",
   "metadata": {},
   "source": [
    "**O modelo de Gradient Boosting apresentou maior acurácia em sua predição, porém, por ser um algoritmo mais complexo sua maior acurácia vem acompanhada também de uma maior exigência computacional.**"
   ]
  },
  {
   "cell_type": "code",
   "execution_count": 121,
   "id": "79809800",
   "metadata": {},
   "outputs": [
    {
     "data": {
      "text/plain": [
       "array([0, 0, 0, ..., 0, 0, 0], dtype=int64)"
      ]
     },
     "execution_count": 121,
     "metadata": {},
     "output_type": "execute_result"
    }
   ],
   "source": [
    "y_pred"
   ]
  },
  {
   "cell_type": "code",
   "execution_count": 122,
   "id": "5e0ad213",
   "metadata": {},
   "outputs": [],
   "source": [
    "predictions = pd.DataFrame(y_pred)"
   ]
  },
  {
   "cell_type": "code",
   "execution_count": 106,
   "id": "b418d6cd",
   "metadata": {},
   "outputs": [],
   "source": [
    "predictions.index.name = 'rowNumber'"
   ]
  },
  {
   "cell_type": "code",
   "execution_count": 108,
   "id": "793a4fbf",
   "metadata": {},
   "outputs": [],
   "source": [
    "predictions.rename( columns={0 :'predictedValues'}, inplace=True )"
   ]
  },
  {
   "cell_type": "code",
   "execution_count": 109,
   "id": "d8b96de8",
   "metadata": {},
   "outputs": [
    {
     "data": {
      "text/html": [
       "<div>\n",
       "<style scoped>\n",
       "    .dataframe tbody tr th:only-of-type {\n",
       "        vertical-align: middle;\n",
       "    }\n",
       "\n",
       "    .dataframe tbody tr th {\n",
       "        vertical-align: top;\n",
       "    }\n",
       "\n",
       "    .dataframe thead th {\n",
       "        text-align: right;\n",
       "    }\n",
       "</style>\n",
       "<table border=\"1\" class=\"dataframe\">\n",
       "  <thead>\n",
       "    <tr style=\"text-align: right;\">\n",
       "      <th></th>\n",
       "      <th>predictedValues</th>\n",
       "    </tr>\n",
       "    <tr>\n",
       "      <th>rowNumber</th>\n",
       "      <th></th>\n",
       "    </tr>\n",
       "  </thead>\n",
       "  <tbody>\n",
       "    <tr>\n",
       "      <th>0</th>\n",
       "      <td>0</td>\n",
       "    </tr>\n",
       "    <tr>\n",
       "      <th>1</th>\n",
       "      <td>0</td>\n",
       "    </tr>\n",
       "    <tr>\n",
       "      <th>2</th>\n",
       "      <td>0</td>\n",
       "    </tr>\n",
       "    <tr>\n",
       "      <th>3</th>\n",
       "      <td>1</td>\n",
       "    </tr>\n",
       "    <tr>\n",
       "      <th>4</th>\n",
       "      <td>0</td>\n",
       "    </tr>\n",
       "    <tr>\n",
       "      <th>...</th>\n",
       "      <td>...</td>\n",
       "    </tr>\n",
       "    <tr>\n",
       "      <th>9037</th>\n",
       "      <td>0</td>\n",
       "    </tr>\n",
       "    <tr>\n",
       "      <th>9038</th>\n",
       "      <td>0</td>\n",
       "    </tr>\n",
       "    <tr>\n",
       "      <th>9039</th>\n",
       "      <td>0</td>\n",
       "    </tr>\n",
       "    <tr>\n",
       "      <th>9040</th>\n",
       "      <td>0</td>\n",
       "    </tr>\n",
       "    <tr>\n",
       "      <th>9041</th>\n",
       "      <td>0</td>\n",
       "    </tr>\n",
       "  </tbody>\n",
       "</table>\n",
       "<p>9042 rows × 1 columns</p>\n",
       "</div>"
      ],
      "text/plain": [
       "           predictedValues\n",
       "rowNumber                 \n",
       "0                        0\n",
       "1                        0\n",
       "2                        0\n",
       "3                        1\n",
       "4                        0\n",
       "...                    ...\n",
       "9037                     0\n",
       "9038                     0\n",
       "9039                     0\n",
       "9040                     0\n",
       "9041                     0\n",
       "\n",
       "[9042 rows x 1 columns]"
      ]
     },
     "execution_count": 109,
     "metadata": {},
     "output_type": "execute_result"
    }
   ],
   "source": [
    "predictions"
   ]
  },
  {
   "cell_type": "code",
   "execution_count": 116,
   "id": "10c3007c",
   "metadata": {},
   "outputs": [],
   "source": [
    "predictions.to_csv(\"./predicted.csv\",sep=\";\")"
   ]
  },
  {
   "cell_type": "code",
   "execution_count": 119,
   "id": "cf35da60",
   "metadata": {},
   "outputs": [],
   "source": [
    "teste = pd.read_csv('./predicted.csv',sep=\";\")"
   ]
  },
  {
   "cell_type": "code",
   "execution_count": 120,
   "id": "579a6031",
   "metadata": {},
   "outputs": [
    {
     "data": {
      "text/html": [
       "<div>\n",
       "<style scoped>\n",
       "    .dataframe tbody tr th:only-of-type {\n",
       "        vertical-align: middle;\n",
       "    }\n",
       "\n",
       "    .dataframe tbody tr th {\n",
       "        vertical-align: top;\n",
       "    }\n",
       "\n",
       "    .dataframe thead th {\n",
       "        text-align: right;\n",
       "    }\n",
       "</style>\n",
       "<table border=\"1\" class=\"dataframe\">\n",
       "  <thead>\n",
       "    <tr style=\"text-align: right;\">\n",
       "      <th></th>\n",
       "      <th>rowNumber</th>\n",
       "      <th>predictedValues</th>\n",
       "    </tr>\n",
       "  </thead>\n",
       "  <tbody>\n",
       "    <tr>\n",
       "      <th>0</th>\n",
       "      <td>0</td>\n",
       "      <td>0</td>\n",
       "    </tr>\n",
       "    <tr>\n",
       "      <th>1</th>\n",
       "      <td>1</td>\n",
       "      <td>0</td>\n",
       "    </tr>\n",
       "    <tr>\n",
       "      <th>2</th>\n",
       "      <td>2</td>\n",
       "      <td>0</td>\n",
       "    </tr>\n",
       "    <tr>\n",
       "      <th>3</th>\n",
       "      <td>3</td>\n",
       "      <td>1</td>\n",
       "    </tr>\n",
       "    <tr>\n",
       "      <th>4</th>\n",
       "      <td>4</td>\n",
       "      <td>0</td>\n",
       "    </tr>\n",
       "    <tr>\n",
       "      <th>...</th>\n",
       "      <td>...</td>\n",
       "      <td>...</td>\n",
       "    </tr>\n",
       "    <tr>\n",
       "      <th>9037</th>\n",
       "      <td>9037</td>\n",
       "      <td>0</td>\n",
       "    </tr>\n",
       "    <tr>\n",
       "      <th>9038</th>\n",
       "      <td>9038</td>\n",
       "      <td>0</td>\n",
       "    </tr>\n",
       "    <tr>\n",
       "      <th>9039</th>\n",
       "      <td>9039</td>\n",
       "      <td>0</td>\n",
       "    </tr>\n",
       "    <tr>\n",
       "      <th>9040</th>\n",
       "      <td>9040</td>\n",
       "      <td>0</td>\n",
       "    </tr>\n",
       "    <tr>\n",
       "      <th>9041</th>\n",
       "      <td>9041</td>\n",
       "      <td>0</td>\n",
       "    </tr>\n",
       "  </tbody>\n",
       "</table>\n",
       "<p>9042 rows × 2 columns</p>\n",
       "</div>"
      ],
      "text/plain": [
       "      rowNumber  predictedValues\n",
       "0             0                0\n",
       "1             1                0\n",
       "2             2                0\n",
       "3             3                1\n",
       "4             4                0\n",
       "...         ...              ...\n",
       "9037       9037                0\n",
       "9038       9038                0\n",
       "9039       9039                0\n",
       "9040       9040                0\n",
       "9041       9041                0\n",
       "\n",
       "[9042 rows x 2 columns]"
      ]
     },
     "execution_count": 120,
     "metadata": {},
     "output_type": "execute_result"
    }
   ],
   "source": [
    "teste"
   ]
  }
 ],
 "metadata": {
  "kernelspec": {
   "display_name": "Python 3 (ipykernel)",
   "language": "python",
   "name": "python3"
  },
  "language_info": {
   "codemirror_mode": {
    "name": "ipython",
    "version": 3
   },
   "file_extension": ".py",
   "mimetype": "text/x-python",
   "name": "python",
   "nbconvert_exporter": "python",
   "pygments_lexer": "ipython3",
   "version": "3.9.12"
  }
 },
 "nbformat": 4,
 "nbformat_minor": 5
}
